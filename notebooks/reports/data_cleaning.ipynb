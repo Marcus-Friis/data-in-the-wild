{
 "cells": [
  {
   "cell_type": "code",
   "execution_count": 1,
   "metadata": {},
   "outputs": [],
   "source": [
    "import pandas as pd\n",
    "import numpy as np\n",
    "import matplotlib.pyplot as plt"
   ]
  },
  {
   "cell_type": "markdown",
   "metadata": {},
   "source": [
    "## Clean YouTube video data"
   ]
  },
  {
   "cell_type": "code",
   "execution_count": 3,
   "metadata": {},
   "outputs": [],
   "source": [
    "hbo = pd.read_csv('../../data/raw/trailers/hbo_trailers.csv')\n",
    "netflix = pd.read_csv('../../data/raw/trailers/netflix_trailers.csv')\n",
    "disney = pd.read_csv('../../data/raw/trailers/disney_trailers.csv')\n",
    "amazon = pd.read_csv('../../data/raw/trailers/amazon_trailers.csv')"
   ]
  },
  {
   "cell_type": "code",
   "execution_count": null,
   "metadata": {},
   "outputs": [],
   "source": [
    "for name, df in zip(['hbo', 'netflix', 'disney', 'amazon'], [hbo, netflix, disney, amazon]):\n",
    "    df['title_lowered'] = df.videoTitle.str.lower()\n",
    "    df['is_trailer'] = df.title_lowered.str.contains('trailer')\n",
    "    trailer_mask = df.is_trailer == True\n",
    "    official_mask = df.title_lowered.str.contains('official')\n",
    "    season_mask = ~df.title_lowered.str.contains('season\\s([2-9]|\\d{2})')\n",
    "    teaser_mask = ~df.title_lowered.str.contains('teaser')\n",
    "    numbered_trailer_mask = ~df.title_lowered.str.contains('trailer.*[2-9]')\n",
    "    mask = trailer_mask & official_mask & season_mask & teaser_mask & numbered_trailer_mask\n",
    "    df[mask][list(df)[1:]].drop_duplicates().to_csv(f'../data/{name}.csv')"
   ]
  },
  {
   "cell_type": "code",
   "execution_count": null,
   "metadata": {},
   "outputs": [],
   "source": [
    "for n in df[mask][list(df)[1:]].drop_duplicates().title_lowered:\n",
    "    print(n)"
   ]
  },
  {
   "cell_type": "code",
   "execution_count": null,
   "metadata": {},
   "outputs": [],
   "source": [
    "for n in df[mask][list(df)[1:]].drop_duplicates().title_lowered:\n",
    "    print(n)"
   ]
  },
  {
   "cell_type": "code",
   "execution_count": null,
   "metadata": {},
   "outputs": [],
   "source": [
    "amazon[mask][list(amazon)[1:]].drop_duplicates()"
   ]
  },
  {
   "cell_type": "code",
   "execution_count": null,
   "metadata": {},
   "outputs": [],
   "source": [
    "df[mask].to_csv('../../data/interim/trailers.csv')"
   ]
  }
 ],
 "metadata": {
  "kernelspec": {
   "display_name": "Python 3",
   "language": "python",
   "name": "python3"
  },
  "language_info": {
   "codemirror_mode": {
    "name": "ipython",
    "version": 3
   },
   "file_extension": ".py",
   "mimetype": "text/x-python",
   "name": "python",
   "nbconvert_exporter": "python",
   "pygments_lexer": "ipython3",
   "version": "3.8.5"
  }
 },
 "nbformat": 4,
 "nbformat_minor": 4
}

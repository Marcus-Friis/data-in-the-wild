{
 "cells": [
  {
   "cell_type": "code",
   "execution_count": null,
   "metadata": {},
   "outputs": [],
   "source": [
    "import pandas as pd\n",
    "import numpy as np\n",
    "import matplotlib.pyplot as plt"
   ]
  },
  {
   "cell_type": "markdown",
   "metadata": {},
   "source": [
    "## Clean YouTube video data"
   ]
  },
  {
   "cell_type": "code",
   "execution_count": null,
   "metadata": {},
   "outputs": [],
   "source": [
    "'''\n",
    "Read the data\n",
    "'''\n",
    "hbo = pd.read_csv('../../data/raw/trailers/hbo_trailers.csv')\n",
    "netflix = pd.read_csv('../../data/raw/trailers/netflix_trailers.csv')\n",
    "disney = pd.read_csv('../../data/raw/trailers/disney_trailers.csv')\n",
    "amazon = pd.read_csv('../../data/raw/trailers/amazon_trailers.csv')"
   ]
  },
  {
   "cell_type": "code",
   "execution_count": null,
   "metadata": {},
   "outputs": [],
   "source": [
    "'''\n",
    "We clean all the scraped Youtube trailers:\n",
    "\n",
    "1) lowercase all the video title (str)\n",
    "2) marking if a video is trailer or not, based on if it contains the word 'trailer' in the title (bool)\n",
    "3) Creating 6 masks to apply to the data - done in order to only get offical trailers. A mask where:\n",
    "    3.1) 'is_trailer' is true\n",
    "    3.2) title contains the string 'official'\n",
    "    3.3) title does not contain the word 'season' followed by a number bigger than 1\n",
    "    3.4) title dot not contain the word 'teaser'\n",
    "    3.5) title does not contain the word 'trailer' followed by a number bigger than 1\n",
    "    3.6) A final mask, that combines the 5 previous masks.\n",
    "4) applying the final mask to the data, and saving it in new .csv files.\n",
    "'''\n",
    "\n",
    "for name, df in zip(['hbo', 'netflix', 'disney', 'amazon'], [hbo, netflix, disney, amazon]):\n",
    "    df['title_lowered'] = df.videoTitle.str.lower()\n",
    "    df['is_trailer'] = df.title_lowered.str.contains('trailer')\n",
    "    trailer_mask = df.is_trailer == True\n",
    "    official_mask = df.title_lowered.str.contains('official')\n",
    "    season_mask = ~df.title_lowered.str.contains('season\\s([2-9]|\\d{2})')\n",
    "    teaser_mask = ~df.title_lowered.str.contains('teaser')\n",
    "    numbered_trailer_mask = ~df.title_lowered.str.contains('trailer.*[2-9]')\n",
    "    mask = trailer_mask & official_mask & season_mask & teaser_mask & numbered_trailer_mask\n",
    "    df[mask][list(df)[1:]].drop_duplicates().to_csv(f'../../data/interim/trailers/{name}_trailers.csv', index=False)"
   ]
  }
 ],
 "metadata": {
  "kernelspec": {
   "display_name": "Python 3 (ipykernel)",
   "language": "python",
   "name": "python3"
  },
  "language_info": {
   "codemirror_mode": {
    "name": "ipython",
    "version": 3
   },
   "file_extension": ".py",
   "mimetype": "text/x-python",
   "name": "python",
   "nbconvert_exporter": "python",
   "pygments_lexer": "ipython3",
   "version": "3.7.12"
  }
 },
 "nbformat": 4,
 "nbformat_minor": 4
}

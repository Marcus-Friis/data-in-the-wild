{
 "cells": [
  {
   "cell_type": "code",
   "execution_count": 1,
   "metadata": {},
   "outputs": [],
   "source": [
    "import sys\n",
    "sys.path.append('../..')\n",
    "\n",
    "import os\n",
    "import pandas as pd\n",
    "import numpy as np\n",
    "import matplotlib.pyplot as plt\n",
    "from matplotlib.ticker import MultipleLocator\n",
    "import matplotlib as mpl\n",
    "import seaborn as sns\n",
    "\n",
    "from scipy import stats\n",
    "\n",
    "import src.visualizor"
   ]
  },
  {
   "cell_type": "code",
   "execution_count": 2,
   "metadata": {},
   "outputs": [
    {
     "name": "stderr",
     "output_type": "stream",
     "text": [
      "C:\\Users\\marcu\\anaconda3\\lib\\site-packages\\IPython\\core\\interactiveshell.py:3418: DtypeWarning: Columns (18,22) have mixed types.Specify dtype option on import or set low_memory=False.\n",
      "  exec(code_obj, self.user_global_ns, self.user_ns)\n"
     ]
    }
   ],
   "source": [
    "df = pd.read_csv('../../data/processed/data.csv')"
   ]
  },
  {
   "cell_type": "code",
   "execution_count": 3,
   "metadata": {},
   "outputs": [],
   "source": [
    "df['ratio'] = df.likes / (df.dislikes + df.likes)"
   ]
  },
  {
   "cell_type": "code",
   "execution_count": 5,
   "metadata": {},
   "outputs": [],
   "source": [
    "mask = df.commentDateOffset < 10000000000\n",
    "agg = df[mask].groupby(['primaryTitle', 'tconst', 'videoId', 'network']).agg(\n",
    "    likes=('likes', 'mean'),\n",
    "    dislikes=('dislikes', 'mean'),\n",
    "    numComments=('commentId', 'count'),\n",
    "    sentiment=('sentimentPredictedScore', 'mean'),\n",
    "    averageRating=('averageRating', 'mean'),\n",
    "    ratio=('ratio', 'mean')\n",
    ").reset_index()"
   ]
  },
  {
   "cell_type": "code",
   "execution_count": 6,
   "metadata": {},
   "outputs": [
    {
     "data": {
      "text/html": [
       "<div>\n",
       "<style scoped>\n",
       "    .dataframe tbody tr th:only-of-type {\n",
       "        vertical-align: middle;\n",
       "    }\n",
       "\n",
       "    .dataframe tbody tr th {\n",
       "        vertical-align: top;\n",
       "    }\n",
       "\n",
       "    .dataframe thead th {\n",
       "        text-align: right;\n",
       "    }\n",
       "</style>\n",
       "<table border=\"1\" class=\"dataframe\">\n",
       "  <thead>\n",
       "    <tr style=\"text-align: right;\">\n",
       "      <th></th>\n",
       "      <th>likes</th>\n",
       "      <th>dislikes</th>\n",
       "      <th>numComments</th>\n",
       "      <th>sentiment</th>\n",
       "      <th>averageRating</th>\n",
       "      <th>ratio</th>\n",
       "    </tr>\n",
       "  </thead>\n",
       "  <tbody>\n",
       "    <tr>\n",
       "      <th>likes</th>\n",
       "      <td>1.000000</td>\n",
       "      <td>0.041214</td>\n",
       "      <td>0.447780</td>\n",
       "      <td>0.024972</td>\n",
       "      <td>0.156612</td>\n",
       "      <td>0.135174</td>\n",
       "    </tr>\n",
       "    <tr>\n",
       "      <th>dislikes</th>\n",
       "      <td>0.041214</td>\n",
       "      <td>1.000000</td>\n",
       "      <td>0.879443</td>\n",
       "      <td>-0.180578</td>\n",
       "      <td>-0.172721</td>\n",
       "      <td>-0.355120</td>\n",
       "    </tr>\n",
       "    <tr>\n",
       "      <th>numComments</th>\n",
       "      <td>0.447780</td>\n",
       "      <td>0.879443</td>\n",
       "      <td>1.000000</td>\n",
       "      <td>-0.170172</td>\n",
       "      <td>-0.068612</td>\n",
       "      <td>-0.262886</td>\n",
       "    </tr>\n",
       "    <tr>\n",
       "      <th>sentiment</th>\n",
       "      <td>0.024972</td>\n",
       "      <td>-0.180578</td>\n",
       "      <td>-0.170172</td>\n",
       "      <td>1.000000</td>\n",
       "      <td>0.228823</td>\n",
       "      <td>0.257063</td>\n",
       "    </tr>\n",
       "    <tr>\n",
       "      <th>averageRating</th>\n",
       "      <td>0.156612</td>\n",
       "      <td>-0.172721</td>\n",
       "      <td>-0.068612</td>\n",
       "      <td>0.228823</td>\n",
       "      <td>1.000000</td>\n",
       "      <td>0.373533</td>\n",
       "    </tr>\n",
       "    <tr>\n",
       "      <th>ratio</th>\n",
       "      <td>0.135174</td>\n",
       "      <td>-0.355120</td>\n",
       "      <td>-0.262886</td>\n",
       "      <td>0.257063</td>\n",
       "      <td>0.373533</td>\n",
       "      <td>1.000000</td>\n",
       "    </tr>\n",
       "  </tbody>\n",
       "</table>\n",
       "</div>"
      ],
      "text/plain": [
       "                  likes  dislikes  numComments  sentiment  averageRating  \\\n",
       "likes          1.000000  0.041214     0.447780   0.024972       0.156612   \n",
       "dislikes       0.041214  1.000000     0.879443  -0.180578      -0.172721   \n",
       "numComments    0.447780  0.879443     1.000000  -0.170172      -0.068612   \n",
       "sentiment      0.024972 -0.180578    -0.170172   1.000000       0.228823   \n",
       "averageRating  0.156612 -0.172721    -0.068612   0.228823       1.000000   \n",
       "ratio          0.135174 -0.355120    -0.262886   0.257063       0.373533   \n",
       "\n",
       "                  ratio  \n",
       "likes          0.135174  \n",
       "dislikes      -0.355120  \n",
       "numComments   -0.262886  \n",
       "sentiment      0.257063  \n",
       "averageRating  0.373533  \n",
       "ratio          1.000000  "
      ]
     },
     "execution_count": 6,
     "metadata": {},
     "output_type": "execute_result"
    }
   ],
   "source": [
    "mask = agg.numComments >= 100\n",
    "agg[mask].corr()"
   ]
  },
  {
   "cell_type": "code",
   "execution_count": 27,
   "metadata": {},
   "outputs": [],
   "source": [
    "params = {\n",
    "    'netflix': {\n",
    "        'color': '#E24A33',\n",
    "        'label': 'netflix'\n",
    "    },\n",
    "    'amazon': {\n",
    "        'color': '#348ABD',\n",
    "        'label': 'amazon'\n",
    "    },\n",
    "    'hbo': {\n",
    "        'color': '#988ED5',\n",
    "        'label': 'hbo'\n",
    "    },\n",
    "    'disney': {\n",
    "        'color': '#8EBA42',\n",
    "        'label': 'disney'\n",
    "    }\n",
    "}\n"
   ]
  },
  {
   "cell_type": "code",
   "execution_count": 51,
   "metadata": {},
   "outputs": [
    {
     "data": {
      "text/plain": [
       "<matplotlib.legend.Legend at 0x2c930326a90>"
      ]
     },
     "execution_count": 51,
     "metadata": {},
     "output_type": "execute_result"
    },
    {
     "data": {
      "image/png": "[encoded data removed]",
      "text/plain": [
       "<Figure size 432x288 with 1 Axes>"
      ]
     },
     "metadata": {},
     "output_type": "display_data"
    }
   ],
   "source": [
    "fig, ax = plt.subplots()\n",
    "X = agg\n",
    "mask = X.numComments >= 100\n",
    "X = X[mask]\n",
    "\n",
    "for network in X.network.unique():\n",
    "    mask = network == X.network\n",
    "    ax.scatter(X[mask].sentiment, X[mask].ratio, alpha=.7, s=np.log2(X[mask].numComments)*3, **params[network])\n",
    "\n",
    "    \n",
    "ax.set_xlabel('Average sentiment')\n",
    "ax.set_ylabel('like-dislike ratio')\n",
    "ax.set_title('Relation between \\nlike-dislike ratio and sentiment')\n",
    "ax.legend()"
   ]
  },
  {
   "cell_type": "code",
   "execution_count": 52,
   "metadata": {},
   "outputs": [],
   "source": [
    "fig.savefig('../../reports/figs/likedislike_sentiment_scatter.svg')"
   ]
  },
  {
   "cell_type": "code",
   "execution_count": 53,
   "metadata": {},
   "outputs": [
    {
     "data": {
      "text/plain": [
       "(0.16977180753665572, 0.00035299204219300934)"
      ]
     },
     "execution_count": 53,
     "metadata": {},
     "output_type": "execute_result"
    }
   ],
   "source": [
    "stats.pearsonr(agg.sentiment, agg.ratio)"
   ]
  }
 ],
 "metadata": {
  "kernelspec": {
   "display_name": "Python 3",
   "language": "python",
   "name": "python3"
  },
  "language_info": {
   "codemirror_mode": {
    "name": "ipython",
    "version": 3
   },
   "file_extension": ".py",
   "mimetype": "text/x-python",
   "name": "python",
   "nbconvert_exporter": "python",
   "pygments_lexer": "ipython3",
   "version": "3.8.5"
  }
 },
 "nbformat": 4,
 "nbformat_minor": 4
}

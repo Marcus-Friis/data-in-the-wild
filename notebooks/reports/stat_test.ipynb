{
 "cells": [
  {
   "cell_type": "code",
   "execution_count": null,
   "metadata": {},
   "outputs": [],
   "source": [
    "import sys\n",
    "sys.path.append('../..')\n",
    "\n",
    "import os\n",
    "import pandas as pd\n",
    "import numpy as np\n",
    "import matplotlib.pyplot as plt\n",
    "from matplotlib.ticker import MultipleLocator\n",
    "import matplotlib as mpl\n",
    "import seaborn as sns\n",
    "\n",
    "from scipy import stats\n",
    "\n",
    "import src.visualizor"
   ]
  },
  {
   "cell_type": "code",
   "execution_count": null,
   "metadata": {},
   "outputs": [],
   "source": [
    "df = pd.read_csv('../../data/processed/data.csv')"
   ]
  },
  {
   "cell_type": "code",
   "execution_count": null,
   "metadata": {},
   "outputs": [],
   "source": [
    "'''\n",
    "X is the dataframe with only data from before a movie/show's release.\n",
    "Then we groupby using the features 'videoID', 'tconst', and 'primaryTitle.'\n",
    "This is done, in order to aggregate the desired values\n",
    "--> We get the number of comments, which is acquired by counting the commentIds for each video\n",
    "--> We get the mean sentiment for each comment\n",
    "--> We get the mean imdb score for each movie/show\n",
    "\n",
    "\n",
    "'''\n",
    "\n",
    "\n",
    "X = df\n",
    "X = X[X.commentDateOffset < 0]\n",
    "\n",
    "agg = X.groupby(['videoId', 'tconst', 'primaryTitle']).agg(\n",
    "    numComments=('commentId', 'count'),\n",
    "    sentiment=('sentimentPredictedScore', 'mean'),\n",
    "    averageRating=('averageRating', 'mean'),\n",
    ").reset_index()\n",
    "\n",
    "'''\n",
    "Afterwards, we filter based on the amount of comments a movie/show has. In this case, \n",
    "we only take the movies with more than 100 comments.\n",
    "\n",
    "'''\n",
    "agg = agg[agg.numComments >= 100]\n",
    "\n",
    "'''\n",
    "We then set a threshold, used to split the data. The threshold is the median of the mean sentiment. \n",
    "agg_hi and agg_lo are then created using this threshold. \n",
    "'''\n",
    "\n",
    "threshold = agg.sentiment.median()\n",
    "mask = agg.sentiment <= threshold\n",
    "\n",
    "agg_hi = agg[~mask]\n",
    "agg_lo = agg[mask]"
   ]
  },
  {
   "cell_type": "code",
   "execution_count": null,
   "metadata": {},
   "outputs": [],
   "source": [
    "'''\n",
    "Params for the histogram further down.\n",
    "'''\n",
    "hist_params = {\n",
    "    'alpha': .4,\n",
    "    'density': True\n",
    "}"
   ]
  },
  {
   "cell_type": "code",
   "execution_count": null,
   "metadata": {},
   "outputs": [],
   "source": [
    "'''\n",
    "Plotting the agg_hi and agg_lo in a histogram, using the param kwargs specified in the above cell.\n",
    "'''\n",
    "\n",
    "fig, ax = plt.subplots()\n",
    "ax.hist(agg_hi.averageRating, **hist_params, label=f'Sentiment $>$ {round(threshold, 2)}')\n",
    "ax.hist(agg_lo.averageRating, **hist_params, label=f'Sentiment $\\leq$ {round(threshold, 2)}')\n",
    "ax.set_title('Distribution of ratings for above/below\\nmedian sentiments pre release')\n",
    "ax.set_xlabel('IMDb rating')\n",
    "ax.set_ylabel('Density')\n",
    "ax.legend()"
   ]
  },
  {
   "cell_type": "code",
   "execution_count": null,
   "metadata": {},
   "outputs": [],
   "source": [
    "fig.savefig('../../reports/figs/stat_hist.svg')"
   ]
  },
  {
   "cell_type": "code",
   "execution_count": null,
   "metadata": {},
   "outputs": [],
   "source": [
    "'''\n",
    "Calculate the T-test for the means of two independent samples of scores\n",
    "We parse the function three arguments:\n",
    "1) Sample 1 (agg_lo)\n",
    "2) Sample 2 (agg_hi)\n",
    "3) Alternative: Defines the alternative hypothesis. We used the option 'less', which states:\n",
    "    \"The mean of  the distribution underlying the first sample is less than the mean of the \n",
    "    distribution underlying the second sample.\"\n",
    "'''\n",
    "\n",
    "stats.ttest_ind(agg_lo.averageRating, agg_hi.averageRating, alternative='less')"
   ]
  }
 ],
 "metadata": {
  "kernelspec": {
   "display_name": "Python 3 (ipykernel)",
   "language": "python",
   "name": "python3"
  },
  "language_info": {
   "codemirror_mode": {
    "name": "ipython",
    "version": 3
   },
   "file_extension": ".py",
   "mimetype": "text/x-python",
   "name": "python",
   "nbconvert_exporter": "python",
   "pygments_lexer": "ipython3",
   "version": "3.7.12"
  }
 },
 "nbformat": 4,
 "nbformat_minor": 4
}

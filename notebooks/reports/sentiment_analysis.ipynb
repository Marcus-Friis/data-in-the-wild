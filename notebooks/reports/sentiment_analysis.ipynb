{
 "cells": [
  {
   "cell_type": "code",
   "execution_count": 61,
   "metadata": {},
   "outputs": [],
   "source": [
    "import sys\n",
    "sys.path.append('../..')\n",
    "\n",
    "import os\n",
    "import pandas as pd\n",
    "from sklearn.metrics import precision_recall_fscore_support\n"
   ]
  },
  {
   "cell_type": "code",
   "execution_count": 62,
   "metadata": {},
   "outputs": [
    {
     "name": "stderr",
     "output_type": "stream",
     "text": [
      "c:\\Users\\MiaPu\\anaconda3\\lib\\site-packages\\IPython\\core\\interactiveshell.py:3369: DtypeWarning: Columns (18,22) have mixed types.Specify dtype option on import or set low_memory=False.\n",
      "  exec(code_obj, self.user_global_ns, self.user_ns)\n"
     ]
    }
   ],
   "source": [
    "df = pd.read_csv('../../data/processed/data.csv')"
   ]
  },
  {
   "cell_type": "code",
   "execution_count": 63,
   "metadata": {},
   "outputs": [
    {
     "data": {
      "text/html": [
       "<div>\n",
       "<style scoped>\n",
       "    .dataframe tbody tr th:only-of-type {\n",
       "        vertical-align: middle;\n",
       "    }\n",
       "\n",
       "    .dataframe tbody tr th {\n",
       "        vertical-align: top;\n",
       "    }\n",
       "\n",
       "    .dataframe thead th {\n",
       "        text-align: right;\n",
       "    }\n",
       "</style>\n",
       "<table border=\"1\" class=\"dataframe\">\n",
       "  <thead>\n",
       "    <tr style=\"text-align: right;\">\n",
       "      <th></th>\n",
       "      <th>sentimentLabel</th>\n",
       "      <th>prediction</th>\n",
       "    </tr>\n",
       "  </thead>\n",
       "  <tbody>\n",
       "    <tr>\n",
       "      <th>252</th>\n",
       "      <td>Neutral</td>\n",
       "      <td>Positive</td>\n",
       "    </tr>\n",
       "    <tr>\n",
       "      <th>413</th>\n",
       "      <td>Positive</td>\n",
       "      <td>Neutral</td>\n",
       "    </tr>\n",
       "    <tr>\n",
       "      <th>1044</th>\n",
       "      <td>Neutral</td>\n",
       "      <td>Negative</td>\n",
       "    </tr>\n",
       "    <tr>\n",
       "      <th>1290</th>\n",
       "      <td>Positive</td>\n",
       "      <td>Positive</td>\n",
       "    </tr>\n",
       "    <tr>\n",
       "      <th>1424</th>\n",
       "      <td>Neutral</td>\n",
       "      <td>Neutral</td>\n",
       "    </tr>\n",
       "    <tr>\n",
       "      <th>...</th>\n",
       "      <td>...</td>\n",
       "      <td>...</td>\n",
       "    </tr>\n",
       "    <tr>\n",
       "      <th>756579</th>\n",
       "      <td>Neutral</td>\n",
       "      <td>Positive</td>\n",
       "    </tr>\n",
       "    <tr>\n",
       "      <th>756814</th>\n",
       "      <td>Positive</td>\n",
       "      <td>Positive</td>\n",
       "    </tr>\n",
       "    <tr>\n",
       "      <th>757444</th>\n",
       "      <td>Neutral</td>\n",
       "      <td>Positive</td>\n",
       "    </tr>\n",
       "    <tr>\n",
       "      <th>757724</th>\n",
       "      <td>Positive</td>\n",
       "      <td>Neutral</td>\n",
       "    </tr>\n",
       "    <tr>\n",
       "      <th>757762</th>\n",
       "      <td>Neutral</td>\n",
       "      <td>Neutral</td>\n",
       "    </tr>\n",
       "  </tbody>\n",
       "</table>\n",
       "<p>1264 rows × 2 columns</p>\n",
       "</div>"
      ],
      "text/plain": [
       "       sentimentLabel prediction\n",
       "252           Neutral   Positive\n",
       "413          Positive    Neutral\n",
       "1044          Neutral   Negative\n",
       "1290         Positive   Positive\n",
       "1424          Neutral    Neutral\n",
       "...               ...        ...\n",
       "756579        Neutral   Positive\n",
       "756814       Positive   Positive\n",
       "757444        Neutral   Positive\n",
       "757724       Positive    Neutral\n",
       "757762        Neutral    Neutral\n",
       "\n",
       "[1264 rows x 2 columns]"
      ]
     },
     "execution_count": 63,
     "metadata": {},
     "output_type": "execute_result"
    }
   ],
   "source": [
    "df= df[df[\"sentimentLabel\"].notna()]\n",
    "not_mask = ~df.sentimentLabel.str.contains('Not applicable')\n",
    "\n",
    "df = df[not_mask]\n",
    "\n",
    "df.loc[df.sentimentPredictedRaw.str.contains(\"Positive\") == True, 'prediction'] = \"Positive\"\n",
    "df.loc[df.sentimentPredictedRaw.str.contains(\"Negative\") == True, 'prediction'] = \"Negative\"\n",
    "df.loc[df.sentimentPredictedRaw.str.contains(\"Neutral\") == True, 'prediction'] = \"Neutral\"\n",
    "\n",
    "df = df[[\"sentimentLabel\", \"prediction\"]]\n",
    "df\n"
   ]
  },
  {
   "cell_type": "code",
   "execution_count": 64,
   "metadata": {},
   "outputs": [],
   "source": [
    "y_true = df[\"sentimentLabel\"]\n",
    "y_pred = df[\"prediction\"]"
   ]
  },
  {
   "cell_type": "code",
   "execution_count": 65,
   "metadata": {},
   "outputs": [
    {
     "name": "stdout",
     "output_type": "stream",
     "text": [
      "precision: [0.62479871 0.60297767 0.40416667]\n",
      "recall: [0.68916519 0.47276265 0.51871658]\n",
      "fscore: [0.65540541 0.52998909 0.45433255]\n",
      "support: [563 514 187]\n"
     ]
    }
   ],
   "source": [
    "\n",
    "\n",
    "precision, recall, fscore, support = precision_recall_fscore_support(y_true, y_pred, labels=['Positive', 'Neutral', 'Negative'])\n",
    "\n",
    "print('precision: {}'.format(precision))\n",
    "print('recall: {}'.format(recall))\n",
    "print('fscore: {}'.format(fscore))\n",
    "print('support: {}'.format(support))"
   ]
  },
  {
   "cell_type": "code",
   "execution_count": null,
   "metadata": {},
   "outputs": [],
   "source": []
  }
 ],
 "metadata": {
  "kernelspec": {
   "display_name": "base",
   "language": "python",
   "name": "python3"
  },
  "language_info": {
   "codemirror_mode": {
    "name": "ipython",
    "version": 3
   },
   "file_extension": ".py",
   "mimetype": "text/x-python",
   "name": "python",
   "nbconvert_exporter": "python",
   "pygments_lexer": "ipython3",
   "version": "3.9.12"
  },
  "orig_nbformat": 4,
  "vscode": {
   "interpreter": {
    "hash": "81affdfe547975ac57656042601cc41675d9e2a114fbe2fa5b267aecf8a57498"
   }
  }
 },
 "nbformat": 4,
 "nbformat_minor": 2
}

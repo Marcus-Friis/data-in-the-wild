{
 "cells": [
  {
   "cell_type": "code",
   "execution_count": 6,
   "metadata": {},
   "outputs": [],
   "source": [
    "import requests\n",
    "from bs4 import BeautifulSoup\n",
    "import re\n",
    "import pandas as pd"
   ]
  },
  {
   "cell_type": "code",
   "execution_count": 10,
   "metadata": {},
   "outputs": [
    {
     "name": "stderr",
     "output_type": "stream",
     "text": [
      "<ipython-input-10-efecb4824aa8>:1: DtypeWarning: Columns (4) have mixed types. Specify dtype option on import or set low_memory=False.\n",
      "  df = pd.read_csv('../imdb/title.basics.tsv', delimiter='\\t')\n"
     ]
    }
   ],
   "source": [
    "df = pd.read_csv('../imdb/title.basics.tsv', delimiter='\\t')"
   ]
  },
  {
   "cell_type": "code",
   "execution_count": 26,
   "metadata": {},
   "outputs": [
    {
     "name": "stdout",
     "output_type": "stream",
     "text": [
      "None\n"
     ]
    }
   ],
   "source": [
    "data = {'id': [], 'release_date_us': []}\n",
    "for tconst in df.tconst:\n",
    "    date = None\n",
    "    \n",
    "    response = requests.get(f'https://www.imdb.com/title/tt0816692/releaseinfo')\n",
    "    soup = BeautifulSoup(response.text)\n",
    "    trs = soup.find_all('tr')\n",
    "    for tr in trs:\n",
    "        usa = tr.find_all(text='USA')\n",
    "        if usa:\n",
    "            date = tr.find('td', attrs={'class': 'release-date-item__date'})\n",
    "            print(date)\n",
    "    break"
   ]
  }
 ],
 "metadata": {
  "kernelspec": {
   "display_name": "Python 3",
   "language": "python",
   "name": "python3"
  },
  "language_info": {
   "codemirror_mode": {
    "name": "ipython",
    "version": 3
   },
   "file_extension": ".py",
   "mimetype": "text/x-python",
   "name": "python",
   "nbconvert_exporter": "python",
   "pygments_lexer": "ipython3",
   "version": "3.8.5"
  }
 },
 "nbformat": 4,
 "nbformat_minor": 4
}

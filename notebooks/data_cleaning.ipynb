{
 "cells": [
  {
   "cell_type": "code",
   "execution_count": null,
   "metadata": {},
   "outputs": [],
   "source": [
    "import pandas as pd\n",
    "import numpy as np\n",
    "import matplotlib.pyplot as plt"
   ]
  },
  {
   "cell_type": "markdown",
   "metadata": {},
   "source": [
    "## Clean YouTube video data"
   ]
  },
  {
   "cell_type": "code",
   "execution_count": null,
   "metadata": {},
   "outputs": [],
   "source": [
    "hbo = pd.read_csv('../data/raw/hbo.csv')\n",
    "netflix = pd.read_csv('../data/raw/netflix.csv')\n",
    "disney = pd.read_csv('../data/raw/disney.csv')\n",
    "amazon = pd.read_csv('../data/raw/amazon.csv')"
   ]
  },
  {
   "cell_type": "code",
   "execution_count": null,
   "metadata": {},
   "outputs": [],
   "source": [
    "df = pd.concat((hbo, netflix, disney, amazon), ignore_index=True)"
   ]
  },
  {
   "cell_type": "code",
   "execution_count": null,
   "metadata": {},
   "outputs": [],
   "source": [
    "for name, df in zip(['hbo', 'netflix', 'disney', 'amazon'], [hbo, netflix, disney, amazon]):\n",
    "    df['title_lowered'] = df.videoTitle.str.lower()\n",
    "    df['is_trailer'] = df.title_lowered.str.contains('trailer')\n",
    "    trailer_mask = df.is_trailer == True\n",
    "    official_mask = df.title_lowered.str.contains('official')\n",
    "    season_mask = ~df.title_lowered.str.contains('season\\s([2-9]|\\d{2})')\n",
    "    teaser_mask = ~df.title_lowered.str.contains('teaser')\n",
    "    numbered_trailer_mask = ~df.title_lowered.str.contains('trailer.*{2-9}')\n",
    "    mask = trailer_mask & official_mask & season_mask & teaser_mask & numbered_trailer_mask\n",
    "    df[mask][list(df)[1:]].drop_duplicates().to_csv(f'../data/{name}.csv')"
   ]
  },
  {
   "cell_type": "code",
   "execution_count": null,
   "metadata": {},
   "outputs": [],
   "source": [
    "for n in df[mask][list(df)[1:]].drop_duplicates().title_lowered:\n",
    "    print(n)"
   ]
  },
  {
   "cell_type": "code",
   "execution_count": null,
   "metadata": {},
   "outputs": [],
   "source": [
    "amazon[mask][list(amazon)[1:]].drop_duplicates()"
   ]
  },
  {
   "cell_type": "code",
   "execution_count": null,
   "metadata": {},
   "outputs": [],
   "source": [
    "df[mask].to_csv('../data/all_trailers.csv')"
   ]
  },
  {
   "cell_type": "code",
   "execution_count": null,
   "metadata": {},
   "outputs": [],
   "source": [
    "x = df[mask].title_lowered.str.split(' ').to_list()\n",
    "x = [token for l in x for token in l ]\n",
    "tokens, counts = np.unique(x, return_counts=True)"
   ]
  },
  {
   "cell_type": "code",
   "execution_count": null,
   "metadata": {},
   "outputs": [],
   "source": [
    "idx = np.argsort(-counts)\n",
    "\n",
    "fig, ax = plt.subplots(figsize=(10, 6))\n",
    "ax.set_xscale('log')\n",
    "\n",
    "n_bars = 10\n",
    "ax.barh(tokens[idx][:n_bars][::-1], counts[idx][:n_bars][::-1])"
   ]
  },
  {
   "cell_type": "markdown",
   "metadata": {},
   "source": [
    "## Prepare IMDb data"
   ]
  },
  {
   "cell_type": "code",
   "execution_count": null,
   "metadata": {},
   "outputs": [],
   "source": [
    "basics = pd.read_csv('../imdb/title.basics.tsv', delimiter='\\t')\n",
    "akas = pd.read_csv('../imdb/title.akas.tsv', delimiter='\\t')\n",
    "ratings = pd.read_csv('../imdb/title.ratings.tsv', delimiter='\\t')"
   ]
  },
  {
   "cell_type": "code",
   "execution_count": null,
   "metadata": {},
   "outputs": [],
   "source": [
    "basics"
   ]
  },
  {
   "cell_type": "code",
   "execution_count": null,
   "metadata": {},
   "outputs": [],
   "source": [
    "df = basics.merge(ratings, on='tconst')"
   ]
  },
  {
   "cell_type": "code",
   "execution_count": null,
   "metadata": {},
   "outputs": [],
   "source": [
    "list(df)"
   ]
  }
 ],
 "metadata": {
  "kernelspec": {
   "display_name": "Python 3 (ipykernel)",
   "language": "python",
   "name": "python3"
  },
  "language_info": {
   "codemirror_mode": {
    "name": "ipython",
    "version": 3
   },
   "file_extension": ".py",
   "mimetype": "text/x-python",
   "name": "python",
   "nbconvert_exporter": "python",
   "pygments_lexer": "ipython3",
   "version": "3.9.7"
  }
 },
 "nbformat": 4,
 "nbformat_minor": 4
}

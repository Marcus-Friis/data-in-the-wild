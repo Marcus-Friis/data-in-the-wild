{
 "cells": [
  {
   "cell_type": "code",
   "execution_count": 30,
   "metadata": {},
   "outputs": [],
   "source": [
    "import sys\n",
    "sys.path.append('..')\n",
    "\n",
    "import os\n",
    "import pandas as pd\n",
    "import numpy as np\n",
    "import matplotlib.pyplot as plt\n",
    "import seaborn as sns\n",
    "\n",
    "from sentiment import sentiment_vader\n",
    "from imdb_api.imdbscraper import ImdbScraper"
   ]
  },
  {
   "cell_type": "markdown",
   "metadata": {},
   "source": [
    "### Trailers"
   ]
  },
  {
   "cell_type": "code",
   "execution_count": 11,
   "metadata": {},
   "outputs": [],
   "source": [
    "file_list = ['hbo', 'amazon', 'netflix']\n",
    "dfs = []\n",
    "for file in file_list:\n",
    "    df = pd.read_csv('../data/' + file + '.csv')\n",
    "    df['network'] = file\n",
    "    dfs.append(df)\n",
    "\n",
    "trailers = pd.concat(dfs)"
   ]
  },
  {
   "cell_type": "markdown",
   "metadata": {},
   "source": [
    "### Comments and sentiment"
   ]
  },
  {
   "cell_type": "code",
   "execution_count": 15,
   "metadata": {},
   "outputs": [],
   "source": [
    "file_list = ['hbo_comments', 'amazon_comments']  # , 'netflix_comments']\n",
    "dfs = []\n",
    "for file in file_list:\n",
    "    df = pd.read_csv('../comments/' + file + '.csv')\n",
    "    dfs.append(df)\n",
    "\n",
    "comments = pd.concat(dfs)"
   ]
  },
  {
   "cell_type": "code",
   "execution_count": 89,
   "metadata": {},
   "outputs": [],
   "source": [
    "comments['sentiment_raw'] = comments.textOriginal.astype(str).apply(sentiment_vader)"
   ]
  },
  {
   "cell_type": "code",
   "execution_count": 91,
   "metadata": {},
   "outputs": [],
   "source": [
    "sentiment_map = {'Positive': 1, 'Neutral': 0, 'Negative': -1}\n",
    "comments['sentiment_score'] = comments.sentiment_raw.str[-1].map(sentiment_map)\n",
    "comments_agg = comments.groupby('videoId').agg(\n",
    "    num_comments=('commentId', 'count'),\n",
    "    sentiment_agg=('sentiment_score', 'mean')\n",
    ").reset_index()"
   ]
  },
  {
   "cell_type": "markdown",
   "metadata": {},
   "source": [
    "### Mapping imdb and youtube"
   ]
  },
  {
   "cell_type": "code",
   "execution_count": 27,
   "metadata": {},
   "outputs": [],
   "source": [
    "file_list = ['hbo', 'amazon', 'netflix']\n",
    "dfs = []\n",
    "for file in file_list:\n",
    "    df = pd.read_csv('../data/match/' + file + '_match.csv', delimiter=';')\n",
    "    dfs.append(df)\n",
    "\n",
    "match = pd.concat(dfs).dropna()"
   ]
  },
  {
   "cell_type": "markdown",
   "metadata": {},
   "source": [
    "### IMDb"
   ]
  },
  {
   "cell_type": "code",
   "execution_count": 17,
   "metadata": {
    "scrolled": true
   },
   "outputs": [
    {
     "name": "stderr",
     "output_type": "stream",
     "text": [
      "<ipython-input-17-a8dec8d5b7d6>:1: DtypeWarning: Columns (4) have mixed types. Specify dtype option on import or set low_memory=False.\n",
      "  imdb = pd.read_csv('../imdb/title.basics.tsv', delimiter='\\t')\n"
     ]
    }
   ],
   "source": [
    "imdb = pd.read_csv('../imdb/title.basics.tsv', delimiter='\\t')\n",
    "ratings = pd.read_csv('../imdb/title.ratings.tsv', delimiter='\\t')\n",
    "imdb = imdb.merge(ratings, on='tconst')"
   ]
  },
  {
   "cell_type": "markdown",
   "metadata": {},
   "source": [
    "### IMDb release dates"
   ]
  },
  {
   "cell_type": "code",
   "execution_count": 45,
   "metadata": {},
   "outputs": [],
   "source": [
    "# scraper = ImdbScraper()\n",
    "# scraper.scrape_dates(match.tconst, verbose=True, timeout=1)"
   ]
  },
  {
   "cell_type": "code",
   "execution_count": 87,
   "metadata": {},
   "outputs": [],
   "source": [
    "release_dates = pd.DataFrame(scraper.data)\n",
    "release_dates['dt'] = pd.to_datetime(release_dates.release_date_us)"
   ]
  },
  {
   "cell_type": "code",
   "execution_count": null,
   "metadata": {},
   "outputs": [],
   "source": []
  },
  {
   "cell_type": "markdown",
   "metadata": {},
   "source": [
    "### The big join"
   ]
  },
  {
   "cell_type": "code",
   "execution_count": 100,
   "metadata": {},
   "outputs": [],
   "source": [
    "df = trailers.merge(comments_agg, on='videoId')\n",
    "df = df.merge(match, on='videoId')\n",
    "df = df.merge(imdb, on='tconst')\n",
    "df = df.merge(release_dates, left_on='tconst', right_on='id')"
   ]
  },
  {
   "cell_type": "code",
   "execution_count": 102,
   "metadata": {},
   "outputs": [
    {
     "data": {
      "text/plain": [
       "['Unnamed: 0',\n",
       " 'channelId',\n",
       " 'videoId',\n",
       " 'videoTitle',\n",
       " 'publishTime',\n",
       " 'publishedAt',\n",
       " 'title_lowered',\n",
       " 'is_trailer',\n",
       " 'network',\n",
       " 'num_comments',\n",
       " 'sentiment_agg',\n",
       " 'tconst',\n",
       " 'titleType',\n",
       " 'primaryTitle',\n",
       " 'originalTitle',\n",
       " 'isAdult',\n",
       " 'startYear',\n",
       " 'endYear',\n",
       " 'runtimeMinutes',\n",
       " 'genres',\n",
       " 'averageRating',\n",
       " 'numVotes',\n",
       " 'id',\n",
       " 'release_date_us',\n",
       " 'dt']"
      ]
     },
     "execution_count": 102,
     "metadata": {},
     "output_type": "execute_result"
    }
   ],
   "source": [
    "list(df)"
   ]
  },
  {
   "cell_type": "code",
   "execution_count": 106,
   "metadata": {},
   "outputs": [
    {
     "data": {
      "text/plain": [
       "<matplotlib.collections.PathCollection at 0x25f1e9d9df0>"
      ]
     },
     "execution_count": 106,
     "metadata": {},
     "output_type": "execute_result"
    },
    {
     "data": {
      "image/png": "[encoded data removed]",
      "text/plain": [
       "<Figure size 432x288 with 1 Axes>"
      ]
     },
     "metadata": {
      "needs_background": "light"
     },
     "output_type": "display_data"
    }
   ],
   "source": [
    "mask = df.num_comments >= 100\n",
    "plt.scatter(df[mask].sentiment_agg, df[mask].averageRating)"
   ]
  },
  {
   "cell_type": "code",
   "execution_count": 314,
   "metadata": {},
   "outputs": [
    {
     "data": {
      "text/plain": [
       "[<matplotlib.lines.Line2D at 0x25f1feb57c0>]"
      ]
     },
     "execution_count": 314,
     "metadata": {},
     "output_type": "execute_result"
    },
    {
     "data": {
      "image/png": "[encoded data removed]",
      "text/plain": [
       "<Figure size 432x288 with 1 Axes>"
      ]
     },
     "metadata": {
      "needs_background": "light"
     },
     "output_type": "display_data"
    }
   ],
   "source": [
    "from sklearn.linear_model import LinearRegression\n",
    "\n",
    "lr = LinearRegression()\n",
    "lr.fit(df[mask]['sentiment_agg'].to_numpy().reshape(-1, 1), df[mask].averageRating.to_numpy())\n",
    "lr.score(df[mask]['sentiment_agg'].to_numpy().reshape(-1, 1), df[mask].averageRating.to_numpy())\n",
    "\n",
    "mask = df['num_comments'] > 100\n",
    "\n",
    "fig, ax = plt.subplots()\n",
    "ax.scatter(df[mask]['sentiment_agg'], df[mask].averageRating, s=np.log(df[mask]['num_comments'])*10, alpha=.7)\n",
    "x = np.linspace(-.2, .6, 100000).reshape(-1, 1)\n",
    "y = lr.predict(x)\n",
    "ax.plot(x, y, color='red')"
   ]
  },
  {
   "cell_type": "code",
   "execution_count": 148,
   "metadata": {},
   "outputs": [
    {
     "data": {
      "text/plain": [
       "(0.0, 10.0)"
      ]
     },
     "execution_count": 148,
     "metadata": {},
     "output_type": "execute_result"
    },
    {
     "data": {
      "image/png": "[encoded data removed]",
      "text/plain": [
       "<Figure size 432x288 with 1 Axes>"
      ]
     },
     "metadata": {
      "needs_background": "light"
     },
     "output_type": "display_data"
    }
   ],
   "source": [
    "fig, ax = plt.subplots()\n",
    "ax.hist(df.averageRating, color='blue', alpha=.6, density=True)\n",
    "ax.set_xlim(0,10)"
   ]
  },
  {
   "cell_type": "code",
   "execution_count": 111,
   "metadata": {},
   "outputs": [],
   "source": [
    "mean = df.sentiment_agg.mean()\n",
    "mask = df.sentiment_agg >= mean\n",
    "df['sentiment_class'] = mask.apply(lambda x: 'upper' if x else 'lower')"
   ]
  },
  {
   "cell_type": "code",
   "execution_count": 114,
   "metadata": {},
   "outputs": [
    {
     "data": {
      "text/plain": [
       "<matplotlib.legend.Legend at 0x25f434f0e80>"
      ]
     },
     "execution_count": 114,
     "metadata": {},
     "output_type": "execute_result"
    },
    {
     "data": {
      "image/png": "[encoded data removed]",
      "text/plain": [
       "<Figure size 432x288 with 1 Axes>"
      ]
     },
     "metadata": {
      "needs_background": "light"
     },
     "output_type": "display_data"
    }
   ],
   "source": [
    "fig, ax = plt.subplots()\n",
    "ax.hist(df[mask].averageRating, color='blue', alpha=.6, label='good', density=True)\n",
    "ax.hist(df[~mask].averageRating, color='red', alpha=.6, label='bad', density=True)\n",
    "ax.set_xlim(0,10)\n",
    "ax.legend()"
   ]
  },
  {
   "cell_type": "code",
   "execution_count": 130,
   "metadata": {},
   "outputs": [],
   "source": [
    "from scipy.stats import norm"
   ]
  },
  {
   "cell_type": "code",
   "execution_count": 138,
   "metadata": {},
   "outputs": [],
   "source": [
    "# good = np.random.normal(loc=np.mean(df[mask].averageRating), scale=np.var(df[mask].averageRating), size=1000)\n",
    "good = norm(loc=np.mean(df[mask].averageRating), scale=np.var(df[mask].averageRating))\n",
    "bad = norm(loc=np.mean(df[~mask].averageRating), scale=np.var(df[~mask].averageRating))"
   ]
  },
  {
   "cell_type": "code",
   "execution_count": 140,
   "metadata": {},
   "outputs": [
    {
     "data": {
      "text/plain": [
       "<matplotlib.legend.Legend at 0x25f94de7280>"
      ]
     },
     "execution_count": 140,
     "metadata": {},
     "output_type": "execute_result"
    },
    {
     "data": {
      "image/png": "[encoded data removed]",
      "text/plain": [
       "<Figure size 432x288 with 1 Axes>"
      ]
     },
     "metadata": {
      "needs_background": "light"
     },
     "output_type": "display_data"
    }
   ],
   "source": [
    "fig, ax = plt.subplots()\n",
    "ax.hist(df[mask].averageRating, color='blue', alpha=.6, label='good', density=True)\n",
    "ax.hist(df[~mask].averageRating, color='red', alpha=.6, label='bad', density=True)\n",
    "\n",
    "x = np.linspace(0, 10, 10000)\n",
    "ax.plot(x, good.pdf(x), color='red')\n",
    "ax.plot(x, bad.pdf(x), color='blue')\n",
    "\n",
    "ax.set_xlim(0,10)\n",
    "ax.legend()"
   ]
  },
  {
   "cell_type": "code",
   "execution_count": 310,
   "metadata": {},
   "outputs": [
    {
     "data": {
      "text/plain": [
       "ShapiroResult(statistic=0.9870291352272034, pvalue=0.48501065373420715)"
      ]
     },
     "execution_count": 310,
     "metadata": {},
     "output_type": "execute_result"
    }
   ],
   "source": [
    "from scipy import stats\n",
    "stats.shapiro(df[mask].averageRating)"
   ]
  }
 ],
 "metadata": {
  "kernelspec": {
   "display_name": "Python 3",
   "language": "python",
   "name": "python3"
  },
  "language_info": {
   "codemirror_mode": {
    "name": "ipython",
    "version": 3
   },
   "file_extension": ".py",
   "mimetype": "text/x-python",
   "name": "python",
   "nbconvert_exporter": "python",
   "pygments_lexer": "ipython3",
   "version": "3.8.5"
  }
 },
 "nbformat": 4,
 "nbformat_minor": 4
}

{
 "cells": [
  {
   "cell_type": "code",
   "execution_count": 2,
   "metadata": {},
   "outputs": [],
   "source": [
    "import pandas as pd\n",
    "import numpy as np\n",
    "from sklearn.metrics import cohen_kappa_score\n",
    "\n"
   ]
  },
  {
   "cell_type": "code",
   "execution_count": 5,
   "metadata": {},
   "outputs": [],
   "source": [
    "df = pd.read_csv('../comments/annotated.csv')"
   ]
  },
  {
   "cell_type": "markdown",
   "metadata": {},
   "source": [
    "### Calculate cohens kappa"
   ]
  },
  {
   "cell_type": "code",
   "execution_count": 49,
   "metadata": {
    "scrolled": true
   },
   "outputs": [],
   "source": [
    "counts = df.groupby('commentId').agg(counts=('annotator', 'count')).reset_index()\n",
    "df = df[df.commentId.isin(counts[counts.counts == 3].commentId)]"
   ]
  },
  {
   "cell_type": "code",
   "execution_count": 56,
   "metadata": {},
   "outputs": [],
   "source": [
    "df = df.sort_values('commentId')"
   ]
  },
  {
   "cell_type": "code",
   "execution_count": 61,
   "metadata": {},
   "outputs": [],
   "source": [
    "sentiment_map = {'Positive': 1, 'Neutral': 2, 'Negative': 3, 'Not applicable': 4}"
   ]
  },
  {
   "cell_type": "code",
   "execution_count": 65,
   "metadata": {},
   "outputs": [],
   "source": [
    "ratings = np.zeros((int(df.shape[0] / 3), 3)) - 1\n",
    "for annotator in [2, 3, 4]:\n",
    "    mask = df.annotator == annotator\n",
    "    ratings[:, annotator-2] = df[mask].sentiment.map(sentiment_map)"
   ]
  },
  {
   "cell_type": "code",
   "execution_count": 73,
   "metadata": {},
   "outputs": [
    {
     "name": "stdout",
     "output_type": "stream",
     "text": [
      "0 1 :\t 0.7249698431845597\n",
      "0 2 :\t 0.7580645161290323\n",
      "1 2 :\t 0.7808619430241052\n"
     ]
    }
   ],
   "source": [
    "for i in range(3):\n",
    "    for j in range(i, 3):\n",
    "        if i != j:\n",
    "            rater1 = ratings[:, i]\n",
    "            rater2 = ratings[:, j]\n",
    "            kappa = cohen_kappa_score(rater1, rater2)\n",
    "\n",
    "            print(i, j, ':\\t', kappa)"
   ]
  },
  {
   "cell_type": "markdown",
   "metadata": {},
   "source": [
    "### Inspect cases of disagreement"
   ]
  },
  {
   "cell_type": "code",
   "execution_count": 150,
   "metadata": {},
   "outputs": [
    {
     "data": {
      "text/plain": [
       "474    I remember after the 2nd Zombies was released,...\n",
       "381    People who love Henry Cavill as Superman need ...\n",
       "505    About time Lana Condor shows up in more movies...\n",
       "257    \"This is worse than that time Stewie suddenly ...\n",
       "195                         Yeah, definitely not a cult.\n",
       "396                                    Let's go Brandon!\n",
       "59     \"Is this the Regular Show?\"\\n\"No, but some voi...\n",
       "29                                #RestoreTheSnyderVerse\n",
       "373    JG Quintel has reached his full power, no more...\n",
       "357    Now wait for the parents to be like \"ITS THE S...\n",
       "Name: textOriginal, dtype: object"
      ]
     },
     "execution_count": 150,
     "metadata": {},
     "output_type": "execute_result"
    }
   ],
   "source": [
    "mask = (ratings[:, 0] != ratings[:, 1]) & (ratings[:, 1] == ratings[:, 2]) & (ratings[:, 0] != ratings[:, 2])\n",
    "df[['videoId', 'commentId', 'textOriginal', 'likeCount']].drop_duplicates()[mask].textOriginal"
   ]
  },
  {
   "cell_type": "code",
   "execution_count": 152,
   "metadata": {},
   "outputs": [
    {
     "data": {
      "text/html": [
       "<div>\n",
       "<style scoped>\n",
       "    .dataframe tbody tr th:only-of-type {\n",
       "        vertical-align: middle;\n",
       "    }\n",
       "\n",
       "    .dataframe tbody tr th {\n",
       "        vertical-align: top;\n",
       "    }\n",
       "\n",
       "    .dataframe thead th {\n",
       "        text-align: right;\n",
       "    }\n",
       "</style>\n",
       "<table border=\"1\" class=\"dataframe\">\n",
       "  <thead>\n",
       "    <tr style=\"text-align: right;\">\n",
       "      <th></th>\n",
       "      <th>Unnamed: 0</th>\n",
       "      <th>videoId</th>\n",
       "      <th>commentId</th>\n",
       "      <th>textOriginal</th>\n",
       "      <th>likeCount</th>\n",
       "      <th>publishedAt</th>\n",
       "      <th>id</th>\n",
       "      <th>sentiment</th>\n",
       "      <th>annotator</th>\n",
       "      <th>annotation_id</th>\n",
       "      <th>created_at</th>\n",
       "      <th>updated_at</th>\n",
       "      <th>lead_time</th>\n",
       "    </tr>\n",
       "  </thead>\n",
       "  <tbody>\n",
       "    <tr>\n",
       "      <th>381</th>\n",
       "      <td>25009</td>\n",
       "      <td>vM-Bja2Gy04</td>\n",
       "      <td>UgxBn1Xuhohwm6BrmTJ4AaABAg</td>\n",
       "      <td>People who love Henry Cavill as Superman need ...</td>\n",
       "      <td>3312</td>\n",
       "      <td>2021-02-27T03:10:37Z</td>\n",
       "      <td>61904</td>\n",
       "      <td>Neutral</td>\n",
       "      <td>2</td>\n",
       "      <td>1389</td>\n",
       "      <td>2022-12-12T15:47:39.322931Z</td>\n",
       "      <td>2022-12-12T15:47:39.322931Z</td>\n",
       "      <td>5.953</td>\n",
       "    </tr>\n",
       "    <tr>\n",
       "      <th>380</th>\n",
       "      <td>25009</td>\n",
       "      <td>vM-Bja2Gy04</td>\n",
       "      <td>UgxBn1Xuhohwm6BrmTJ4AaABAg</td>\n",
       "      <td>People who love Henry Cavill as Superman need ...</td>\n",
       "      <td>3312</td>\n",
       "      <td>2021-02-27T03:10:37Z</td>\n",
       "      <td>61904</td>\n",
       "      <td>Positive</td>\n",
       "      <td>3</td>\n",
       "      <td>1390</td>\n",
       "      <td>2022-12-12T15:47:40.368833Z</td>\n",
       "      <td>2022-12-12T15:47:40.368833Z</td>\n",
       "      <td>7.665</td>\n",
       "    </tr>\n",
       "    <tr>\n",
       "      <th>382</th>\n",
       "      <td>25009</td>\n",
       "      <td>vM-Bja2Gy04</td>\n",
       "      <td>UgxBn1Xuhohwm6BrmTJ4AaABAg</td>\n",
       "      <td>People who love Henry Cavill as Superman need ...</td>\n",
       "      <td>3312</td>\n",
       "      <td>2021-02-27T03:10:37Z</td>\n",
       "      <td>61904</td>\n",
       "      <td>Positive</td>\n",
       "      <td>4</td>\n",
       "      <td>1388</td>\n",
       "      <td>2022-12-12T15:47:36.754748Z</td>\n",
       "      <td>2022-12-12T15:47:36.754748Z</td>\n",
       "      <td>5.074</td>\n",
       "    </tr>\n",
       "  </tbody>\n",
       "</table>\n",
       "</div>"
      ],
      "text/plain": [
       "     Unnamed: 0      videoId                   commentId  \\\n",
       "381       25009  vM-Bja2Gy04  UgxBn1Xuhohwm6BrmTJ4AaABAg   \n",
       "380       25009  vM-Bja2Gy04  UgxBn1Xuhohwm6BrmTJ4AaABAg   \n",
       "382       25009  vM-Bja2Gy04  UgxBn1Xuhohwm6BrmTJ4AaABAg   \n",
       "\n",
       "                                          textOriginal  likeCount  \\\n",
       "381  People who love Henry Cavill as Superman need ...       3312   \n",
       "380  People who love Henry Cavill as Superman need ...       3312   \n",
       "382  People who love Henry Cavill as Superman need ...       3312   \n",
       "\n",
       "              publishedAt     id sentiment  annotator  annotation_id  \\\n",
       "381  2021-02-27T03:10:37Z  61904   Neutral          2           1389   \n",
       "380  2021-02-27T03:10:37Z  61904  Positive          3           1390   \n",
       "382  2021-02-27T03:10:37Z  61904  Positive          4           1388   \n",
       "\n",
       "                      created_at                   updated_at  lead_time  \n",
       "381  2022-12-12T15:47:39.322931Z  2022-12-12T15:47:39.322931Z      5.953  \n",
       "380  2022-12-12T15:47:40.368833Z  2022-12-12T15:47:40.368833Z      7.665  \n",
       "382  2022-12-12T15:47:36.754748Z  2022-12-12T15:47:36.754748Z      5.074  "
      ]
     },
     "execution_count": 152,
     "metadata": {},
     "output_type": "execute_result"
    }
   ],
   "source": [
    "df[df.textOriginal.str.contains('who love Henry Cavill as Sup')]"
   ]
  },
  {
   "cell_type": "code",
   "execution_count": null,
   "metadata": {},
   "outputs": [],
   "source": []
  },
  {
   "cell_type": "markdown",
   "metadata": {},
   "source": [
    "### Confusion matrix"
   ]
  },
  {
   "cell_type": "code",
   "execution_count": null,
   "metadata": {},
   "outputs": [],
   "source": []
  }
 ],
 "metadata": {
  "kernelspec": {
   "display_name": "Python 3",
   "language": "python",
   "name": "python3"
  },
  "language_info": {
   "codemirror_mode": {
    "name": "ipython",
    "version": 3
   },
   "file_extension": ".py",
   "mimetype": "text/x-python",
   "name": "python",
   "nbconvert_exporter": "python",
   "pygments_lexer": "ipython3",
   "version": "3.8.5"
  }
 },
 "nbformat": 4,
 "nbformat_minor": 4
}

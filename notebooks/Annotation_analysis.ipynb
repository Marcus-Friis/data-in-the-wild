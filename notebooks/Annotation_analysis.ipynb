{
 "cells": [
  {
   "cell_type": "code",
   "execution_count": 43,
   "metadata": {},
   "outputs": [],
   "source": [
    "import pandas as pd\n",
    "import numpy as np\n",
    "from sklearn.metrics import cohen_kappa_score\n",
    "\n",
    "from statsmodels.stats.inter_rater import fleiss_kappa\n",
    "from sklearn.metrics import confusion_matrix\n",
    "from matplotlib.colors import LogNorm"
   ]
  },
  {
   "cell_type": "code",
   "execution_count": 2,
   "metadata": {},
   "outputs": [],
   "source": [
    "df = pd.read_csv('../comments/annotated.csv')"
   ]
  },
  {
   "cell_type": "markdown",
   "metadata": {},
   "source": [
    "### Calculate cohens kappa"
   ]
  },
  {
   "cell_type": "code",
   "execution_count": 3,
   "metadata": {
    "scrolled": true
   },
   "outputs": [],
   "source": [
    "counts = df.groupby('commentId').agg(counts=('annotator', 'count')).reset_index()\n",
    "df = df[df.commentId.isin(counts[counts.counts == 3].commentId)]"
   ]
  },
  {
   "cell_type": "code",
   "execution_count": 4,
   "metadata": {},
   "outputs": [],
   "source": [
    "df = df.sort_values('commentId')"
   ]
  },
  {
   "cell_type": "code",
   "execution_count": 5,
   "metadata": {},
   "outputs": [],
   "source": [
    "sentiment_map = {'Positive': 1, 'Neutral': 2, 'Negative': 3, 'Not applicable': 4}"
   ]
  },
  {
   "cell_type": "code",
   "execution_count": 6,
   "metadata": {},
   "outputs": [],
   "source": [
    "ratings = np.zeros((int(df.shape[0] / 3), 3)) - 1\n",
    "for annotator in [2, 3, 4]:\n",
    "    mask = df.annotator == annotator\n",
    "    ratings[:, annotator-2] = df[mask].sentiment.map(sentiment_map)"
   ]
  },
  {
   "cell_type": "code",
   "execution_count": 7,
   "metadata": {},
   "outputs": [
    {
     "name": "stdout",
     "output_type": "stream",
     "text": [
      "0 1 :\t 0.7249698431845597\n",
      "0 2 :\t 0.7580645161290323\n",
      "1 2 :\t 0.7808619430241052\n"
     ]
    }
   ],
   "source": [
    "for i in range(3):\n",
    "    for j in range(i, 3):\n",
    "        if i != j:\n",
    "            rater1 = ratings[:, i]\n",
    "            rater2 = ratings[:, j]\n",
    "            kappa = cohen_kappa_score(rater1, rater2)\n",
    "\n",
    "            print(i, j, ':\\t', kappa)"
   ]
  },
  {
   "cell_type": "markdown",
   "metadata": {},
   "source": [
    "### Inspect cases of disagreement"
   ]
  },
  {
   "cell_type": "code",
   "execution_count": 8,
   "metadata": {},
   "outputs": [
    {
     "data": {
      "text/plain": [
       "474    I remember after the 2nd Zombies was released,...\n",
       "381    People who love Henry Cavill as Superman need ...\n",
       "505    About time Lana Condor shows up in more movies...\n",
       "257    \"This is worse than that time Stewie suddenly ...\n",
       "195                         Yeah, definitely not a cult.\n",
       "396                                    Let's go Brandon!\n",
       "59     \"Is this the Regular Show?\"\\n\"No, but some voi...\n",
       "29                                #RestoreTheSnyderVerse\n",
       "373    JG Quintel has reached his full power, no more...\n",
       "357    Now wait for the parents to be like \"ITS THE S...\n",
       "Name: textOriginal, dtype: object"
      ]
     },
     "execution_count": 8,
     "metadata": {},
     "output_type": "execute_result"
    }
   ],
   "source": [
    "mask = (ratings[:, 0] != ratings[:, 1]) & (ratings[:, 1] == ratings[:, 2]) & (ratings[:, 0] != ratings[:, 2])\n",
    "df[['videoId', 'commentId', 'textOriginal', 'likeCount']].drop_duplicates()[mask].textOriginal"
   ]
  },
  {
   "cell_type": "code",
   "execution_count": 9,
   "metadata": {},
   "outputs": [
    {
     "data": {
      "text/html": [
       "<div>\n",
       "<style scoped>\n",
       "    .dataframe tbody tr th:only-of-type {\n",
       "        vertical-align: middle;\n",
       "    }\n",
       "\n",
       "    .dataframe tbody tr th {\n",
       "        vertical-align: top;\n",
       "    }\n",
       "\n",
       "    .dataframe thead th {\n",
       "        text-align: right;\n",
       "    }\n",
       "</style>\n",
       "<table border=\"1\" class=\"dataframe\">\n",
       "  <thead>\n",
       "    <tr style=\"text-align: right;\">\n",
       "      <th></th>\n",
       "      <th>Unnamed: 0</th>\n",
       "      <th>videoId</th>\n",
       "      <th>commentId</th>\n",
       "      <th>textOriginal</th>\n",
       "      <th>likeCount</th>\n",
       "      <th>publishedAt</th>\n",
       "      <th>id</th>\n",
       "      <th>sentiment</th>\n",
       "      <th>annotator</th>\n",
       "      <th>annotation_id</th>\n",
       "      <th>created_at</th>\n",
       "      <th>updated_at</th>\n",
       "      <th>lead_time</th>\n",
       "    </tr>\n",
       "  </thead>\n",
       "  <tbody>\n",
       "    <tr>\n",
       "      <th>381</th>\n",
       "      <td>25009</td>\n",
       "      <td>vM-Bja2Gy04</td>\n",
       "      <td>UgxBn1Xuhohwm6BrmTJ4AaABAg</td>\n",
       "      <td>People who love Henry Cavill as Superman need ...</td>\n",
       "      <td>3312</td>\n",
       "      <td>2021-02-27T03:10:37Z</td>\n",
       "      <td>61904</td>\n",
       "      <td>Neutral</td>\n",
       "      <td>2</td>\n",
       "      <td>1389</td>\n",
       "      <td>2022-12-12T15:47:39.322931Z</td>\n",
       "      <td>2022-12-12T15:47:39.322931Z</td>\n",
       "      <td>5.953</td>\n",
       "    </tr>\n",
       "    <tr>\n",
       "      <th>380</th>\n",
       "      <td>25009</td>\n",
       "      <td>vM-Bja2Gy04</td>\n",
       "      <td>UgxBn1Xuhohwm6BrmTJ4AaABAg</td>\n",
       "      <td>People who love Henry Cavill as Superman need ...</td>\n",
       "      <td>3312</td>\n",
       "      <td>2021-02-27T03:10:37Z</td>\n",
       "      <td>61904</td>\n",
       "      <td>Positive</td>\n",
       "      <td>3</td>\n",
       "      <td>1390</td>\n",
       "      <td>2022-12-12T15:47:40.368833Z</td>\n",
       "      <td>2022-12-12T15:47:40.368833Z</td>\n",
       "      <td>7.665</td>\n",
       "    </tr>\n",
       "    <tr>\n",
       "      <th>382</th>\n",
       "      <td>25009</td>\n",
       "      <td>vM-Bja2Gy04</td>\n",
       "      <td>UgxBn1Xuhohwm6BrmTJ4AaABAg</td>\n",
       "      <td>People who love Henry Cavill as Superman need ...</td>\n",
       "      <td>3312</td>\n",
       "      <td>2021-02-27T03:10:37Z</td>\n",
       "      <td>61904</td>\n",
       "      <td>Positive</td>\n",
       "      <td>4</td>\n",
       "      <td>1388</td>\n",
       "      <td>2022-12-12T15:47:36.754748Z</td>\n",
       "      <td>2022-12-12T15:47:36.754748Z</td>\n",
       "      <td>5.074</td>\n",
       "    </tr>\n",
       "  </tbody>\n",
       "</table>\n",
       "</div>"
      ],
      "text/plain": [
       "     Unnamed: 0      videoId                   commentId  \\\n",
       "381       25009  vM-Bja2Gy04  UgxBn1Xuhohwm6BrmTJ4AaABAg   \n",
       "380       25009  vM-Bja2Gy04  UgxBn1Xuhohwm6BrmTJ4AaABAg   \n",
       "382       25009  vM-Bja2Gy04  UgxBn1Xuhohwm6BrmTJ4AaABAg   \n",
       "\n",
       "                                          textOriginal  likeCount  \\\n",
       "381  People who love Henry Cavill as Superman need ...       3312   \n",
       "380  People who love Henry Cavill as Superman need ...       3312   \n",
       "382  People who love Henry Cavill as Superman need ...       3312   \n",
       "\n",
       "              publishedAt     id sentiment  annotator  annotation_id  \\\n",
       "381  2021-02-27T03:10:37Z  61904   Neutral          2           1389   \n",
       "380  2021-02-27T03:10:37Z  61904  Positive          3           1390   \n",
       "382  2021-02-27T03:10:37Z  61904  Positive          4           1388   \n",
       "\n",
       "                      created_at                   updated_at  lead_time  \n",
       "381  2022-12-12T15:47:39.322931Z  2022-12-12T15:47:39.322931Z      5.953  \n",
       "380  2022-12-12T15:47:40.368833Z  2022-12-12T15:47:40.368833Z      7.665  \n",
       "382  2022-12-12T15:47:36.754748Z  2022-12-12T15:47:36.754748Z      5.074  "
      ]
     },
     "execution_count": 9,
     "metadata": {},
     "output_type": "execute_result"
    }
   ],
   "source": [
    "df[df.textOriginal.str.contains('who love Henry Cavill as Sup')]"
   ]
  },
  {
   "cell_type": "code",
   "execution_count": 10,
   "metadata": {},
   "outputs": [
    {
     "data": {
      "text/plain": [
       "array([[4., 1., 4., 1., 2., 1., 3., 2., 1., 2., 1., 2., 2., 2., 1., 1.,\n",
       "        3., 1., 1., 1., 1., 4., 1., 1., 1., 2., 3., 2., 1., 1., 2., 2.,\n",
       "        1., 1., 3., 2., 1., 1., 2., 1., 2., 1., 2., 1., 1., 2., 1., 1.,\n",
       "        2., 1., 1., 1., 2., 1., 1., 1., 2., 2., 1., 1., 1., 2., 2., 2.,\n",
       "        2., 1., 2., 1., 3., 2., 1., 2., 1., 3., 1., 1., 1., 1., 3., 1.,\n",
       "        1., 1., 1., 1., 1., 3., 1., 1., 1., 2., 3., 3., 1., 1., 2., 1.,\n",
       "        1., 2., 1., 1., 3., 4., 2., 2., 1., 2., 4., 2., 1., 1., 2., 1.,\n",
       "        2., 1., 3., 1., 1., 1., 1., 3.],\n",
       "       [4., 1., 4., 1., 1., 1., 2., 2., 1., 2., 1., 2., 2., 2., 1., 1.,\n",
       "        3., 1., 1., 1., 1., 4., 1., 1., 1., 2., 3., 2., 1., 1., 2., 2.,\n",
       "        1., 1., 3., 2., 1., 1., 1., 2., 2., 1., 1., 1., 1., 2., 1., 2.,\n",
       "        2., 1., 1., 1., 1., 1., 1., 1., 2., 1., 1., 1., 1., 2., 2., 2.,\n",
       "        2., 1., 2., 1., 3., 2., 1., 2., 2., 3., 2., 1., 2., 1., 2., 1.,\n",
       "        1., 1., 1., 1., 1., 3., 1., 1., 1., 2., 1., 2., 1., 1., 2., 1.,\n",
       "        1., 2., 1., 1., 3., 2., 2., 1., 1., 2., 2., 2., 1., 2., 2., 1.,\n",
       "        2., 1., 3., 1., 1., 1., 1., 2.],\n",
       "       [4., 1., 4., 1., 2., 1., 2., 2., 1., 2., 1., 2., 3., 2., 1., 1.,\n",
       "        3., 1., 1., 1., 1., 4., 1., 1., 1., 1., 3., 2., 1., 1., 2., 2.,\n",
       "        1., 1., 3., 2., 1., 1., 1., 1., 2., 1., 2., 1., 1., 3., 1., 3.,\n",
       "        2., 1., 1., 1., 2., 1., 1., 1., 2., 1., 1., 1., 2., 2., 2., 2.,\n",
       "        2., 1., 2., 1., 3., 2., 1., 2., 1., 3., 1., 1., 1., 1., 2., 1.,\n",
       "        1., 2., 1., 1., 1., 3., 1., 1., 1., 2., 3., 2., 1., 1., 2., 1.,\n",
       "        1., 3., 1., 1., 3., 2., 2., 1., 1., 2., 2., 2., 1., 2., 2., 1.,\n",
       "        2., 1., 3., 1., 1., 1., 1., 2.]])"
      ]
     },
     "execution_count": 10,
     "metadata": {},
     "output_type": "execute_result"
    }
   ],
   "source": [
    "ratings.T"
   ]
  },
  {
   "cell_type": "markdown",
   "metadata": {},
   "source": [
    "### Confusion matrix"
   ]
  },
  {
   "cell_type": "code",
   "execution_count": 11,
   "metadata": {},
   "outputs": [],
   "source": [
    "import matplotlib.pyplot as plt"
   ]
  },
  {
   "cell_type": "code",
   "execution_count": 12,
   "metadata": {},
   "outputs": [],
   "source": [
    "# plt.style.use('fivethirtyeight')"
   ]
  },
  {
   "cell_type": "code",
   "execution_count": 13,
   "metadata": {
    "scrolled": false
   },
   "outputs": [],
   "source": [
    "# import mplcyberpunk\n",
    "# plt.style.use(\"cyberpunk\")\n",
    "# plt.style.use('https://github.com/dhaitz/matplotlib-stylesheets/raw/master/pitayasmoothie-light.mplstyle')"
   ]
  },
  {
   "cell_type": "code",
   "execution_count": 14,
   "metadata": {},
   "outputs": [],
   "source": [
    "plt.style.use(\"ggplot\")"
   ]
  },
  {
   "cell_type": "code",
   "execution_count": 15,
   "metadata": {},
   "outputs": [],
   "source": [
    "df['asdf'] = df.sentiment.map(sentiment_map)"
   ]
  },
  {
   "cell_type": "code",
   "execution_count": 16,
   "metadata": {
    "scrolled": false
   },
   "outputs": [
    {
     "data": {
      "image/png": "[encoded data removed]",
      "text/plain": [
       "<Figure size 1152x576 with 4 Axes>"
      ]
     },
     "metadata": {},
     "output_type": "display_data"
    }
   ],
   "source": [
    "import seaborn as sns\n",
    "fig, ax = plt.subplots(1, 4, figsize=(16,8), gridspec_kw={'width_ratios': [4, 4, 4, .2]})\n",
    "\n",
    "for i in range(3):\n",
    "    j = (i+1) % 3\n",
    "    if i == 2:\n",
    "        sns.heatmap(confusion_matrix(ratings[:,i], ratings[:,j]), ax=ax[i], annot=True, square=True, cbar_ax=ax[3], vmin=0, vmax=70)\n",
    "    else:\n",
    "        sns.heatmap(confusion_matrix(ratings[:,i], ratings[:,j]), ax=ax[i], annot=True, square=True, cbar=False, vmin=0, vmax=70)\n",
    "    ax[i].set_xlabel(f'Annotator {i+1}')\n",
    "    ax[i].set_ylabel(f'Annotator {j+1}')\n",
    "    ax[i].set_xticklabels(['positive', 'neutral', 'negative', 'not app..'])\n",
    "    ax[i].set_yticklabels(['positive', 'neutral', 'negative', 'not app..'], va='center')\n",
    "    \n",
    "fig.tight_layout(pad=1.6)"
   ]
  },
  {
   "cell_type": "code",
   "execution_count": 23,
   "metadata": {},
   "outputs": [
    {
     "data": {
      "text/plain": [
       "RcParams({'axes.axisbelow': True,\n",
       "          'axes.edgecolor': 'white',\n",
       "          'axes.facecolor': '#E5E5E5',\n",
       "          'axes.grid': True,\n",
       "          'axes.labelcolor': '#555555',\n",
       "          'axes.labelsize': 'large',\n",
       "          'axes.linewidth': 1.0,\n",
       "          'axes.prop_cycle': cycler('color', ['#E24A33', '#348ABD', '#988ED5', '#777777', '#FBC15E', '#8EBA42', '#FFB5B8']),\n",
       "          'axes.titlesize': 'x-large',\n",
       "          'figure.edgecolor': '0.50',\n",
       "          'figure.facecolor': 'white',\n",
       "          'font.size': 10.0,\n",
       "          'grid.color': 'white',\n",
       "          'grid.linestyle': '-',\n",
       "          'patch.antialiased': True,\n",
       "          'patch.edgecolor': '#EEEEEE',\n",
       "          'patch.facecolor': '#348ABD',\n",
       "          'patch.linewidth': 0.5,\n",
       "          'xtick.color': '#555555',\n",
       "          'xtick.direction': 'out',\n",
       "          'ytick.color': '#555555',\n",
       "          'ytick.direction': 'out'})"
      ]
     },
     "execution_count": 23,
     "metadata": {},
     "output_type": "execute_result"
    }
   ],
   "source": [
    "mystyle"
   ]
  },
  {
   "cell_type": "code",
   "execution_count": 31,
   "metadata": {},
   "outputs": [],
   "source": [
    "mystyle = plt.style.library['ggplot']\n",
    "mystyle['font.size'] = 14\n",
    "plt.style.use(mystyle)"
   ]
  },
  {
   "cell_type": "code",
   "execution_count": null,
   "metadata": {},
   "outputs": [],
   "source": []
  },
  {
   "cell_type": "code",
   "execution_count": 53,
   "metadata": {},
   "outputs": [
    {
     "data": {
      "image/png": "[encoded data removed]",
      "text/plain": [
       "<Figure size 1080x504 with 4 Axes>"
      ]
     },
     "metadata": {},
     "output_type": "display_data"
    }
   ],
   "source": [
    "import seaborn as sns\n",
    "from matplotlib.gridspec import GridSpec\n",
    "\n",
    "fig = plt.figure(figsize=(15,7))\n",
    "gs = GridSpec(2, 3, figure=fig, height_ratios=[10,1])\n",
    "\n",
    "top_ax = fig.add_subplot(gs[1, :])\n",
    "\n",
    "ax = [fig.add_subplot(gs[0, i]) for i in range(3)]\n",
    "cmap = 'plasma'\n",
    "for i in range(3):\n",
    "    j = (i+1) % 3\n",
    "    if i == 2:\n",
    "        sns.heatmap(confusion_matrix(ratings[:,i], ratings[:,j]), ax=ax[i], annot=True, square=True, cbar_ax=top_ax, vmin=0, vmax=70, cbar_kws={'orientation': 'horizontal'}, cmap=cmap)\n",
    "    else:\n",
    "        sns.heatmap(confusion_matrix(ratings[:,i], ratings[:,j]), ax=ax[i], annot=True, square=True, cbar=False, vmin=0, vmax=70, cmap=cmap)\n",
    "    ax[i].set_xlabel(f'Annotator {i+1}')\n",
    "    ax[i].set_ylabel(f'Annotator {j+1}')\n",
    "    ax[i].set_xticklabels(['positive', 'neutral', 'negative', 'not app..'])\n",
    "    ax[i].set_yticklabels(['positive', 'neutral', 'negative', 'not app..'], va='center')\n",
    "    \n",
    "fig.suptitle('Annotator agreement matrix', fontsize=20)\n",
    "# top_ax.set_xlabel('count')\n",
    "fig.tight_layout()"
   ]
  },
  {
   "cell_type": "code",
   "execution_count": 36,
   "metadata": {},
   "outputs": [],
   "source": [
    "fig.savefig('aamatrix.svg')"
   ]
  }
 ],
 "metadata": {
  "kernelspec": {
   "display_name": "Python 3",
   "language": "python",
   "name": "python3"
  },
  "language_info": {
   "codemirror_mode": {
    "name": "ipython",
    "version": 3
   },
   "file_extension": ".py",
   "mimetype": "text/x-python",
   "name": "python",
   "nbconvert_exporter": "python",
   "pygments_lexer": "ipython3",
   "version": "3.8.5"
  }
 },
 "nbformat": 4,
 "nbformat_minor": 4
}

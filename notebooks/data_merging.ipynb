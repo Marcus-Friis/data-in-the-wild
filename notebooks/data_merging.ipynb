{
 "cells": [
  {
   "cell_type": "code",
   "execution_count": 1,
   "metadata": {},
   "outputs": [],
   "source": [
    "import sys\n",
    "sys.path.append('..')\n",
    "\n",
    "import os\n",
    "import pandas as pd\n",
    "import numpy as np\n",
    "import matplotlib.pyplot as plt\n",
    "from matplotlib.ticker import MultipleLocator\n",
    "import seaborn as sns\n",
    "\n",
    "from sentiment import sentiment_vader\n",
    "from imdb_api.imdbscraper import ImdbScraper\n",
    "\n",
    "from scipy import stats"
   ]
  },
  {
   "cell_type": "markdown",
   "metadata": {},
   "source": [
    "### Trailers"
   ]
  },
  {
   "cell_type": "code",
   "execution_count": 2,
   "metadata": {},
   "outputs": [],
   "source": [
    "file_list = ['hbo', 'amazon', 'netflix', 'disney']\n",
    "dfs = []\n",
    "for file in file_list:\n",
    "    df = pd.read_csv('../data/' + file + '.csv')\n",
    "    df['network'] = file\n",
    "    dfs.append(df)\n",
    "\n",
    "cols = ['channelId', 'network', 'videoId', 'videoTitle', 'publishTime']\n",
    "trailers = pd.concat(dfs)[cols]"
   ]
  },
  {
   "cell_type": "markdown",
   "metadata": {},
   "source": [
    "### Comments and sentiment"
   ]
  },
  {
   "cell_type": "code",
   "execution_count": 4,
   "metadata": {},
   "outputs": [],
   "source": [
    "file_list = ['hbo_comments', 'amazon_comments', 'netflix_comments', 'disney_comments']\n",
    "dfs = []\n",
    "for file in file_list:\n",
    "    df = pd.read_csv('../comments/' + file + '.csv')\n",
    "    dfs.append(df)\n",
    "\n",
    "comments = pd.concat(dfs)\n",
    "cols = ['videoId', 'commentId', 'textOriginal', 'likeCount', 'publishedAt']\n",
    "comments = comments[cols]"
   ]
  },
  {
   "cell_type": "markdown",
   "metadata": {},
   "source": [
    "### Mapping imdb and youtube"
   ]
  },
  {
   "cell_type": "code",
   "execution_count": 9,
   "metadata": {},
   "outputs": [],
   "source": [
    "file_list = ['hbo', 'amazon', 'netflix', 'disney']\n",
    "dfs = []\n",
    "for file in file_list:\n",
    "    df = pd.read_csv('../data/match/' + file + '_match.csv', delimiter=';')\n",
    "    dfs.append(df)\n",
    "\n",
    "match = pd.concat(dfs).dropna()"
   ]
  },
  {
   "cell_type": "markdown",
   "metadata": {},
   "source": [
    "### IMDb"
   ]
  },
  {
   "cell_type": "code",
   "execution_count": 11,
   "metadata": {
    "scrolled": true
   },
   "outputs": [
    {
     "name": "stderr",
     "output_type": "stream",
     "text": [
      "C:\\Users\\marcu\\anaconda3\\lib\\site-packages\\IPython\\core\\interactiveshell.py:3418: DtypeWarning: Columns (4) have mixed types.Specify dtype option on import or set low_memory=False.\n",
      "  exec(code_obj, self.user_global_ns, self.user_ns)\n"
     ]
    }
   ],
   "source": [
    "imdb = pd.read_csv('../imdb/title.basics.tsv', delimiter='\\t')\n",
    "ratings = pd.read_csv('../imdb/title.ratings.tsv', delimiter='\\t')\n",
    "imdb = imdb.merge(ratings, on='tconst')"
   ]
  },
  {
   "cell_type": "markdown",
   "metadata": {},
   "source": [
    "### IMDb release dates"
   ]
  },
  {
   "cell_type": "code",
   "execution_count": null,
   "metadata": {},
   "outputs": [],
   "source": [
    "# scraper = ImdbScraper()\n",
    "# scraper.scrape_dates(match.tconst, verbose=True, timeout=1)"
   ]
  },
  {
   "cell_type": "code",
   "execution_count": null,
   "metadata": {},
   "outputs": [],
   "source": [
    "# release_dates = pd.DataFrame(scraper.data)\n",
    "# release_dates['dt'] = pd.to_datetime(release_dates.release_date_us)"
   ]
  },
  {
   "cell_type": "code",
   "execution_count": 12,
   "metadata": {},
   "outputs": [],
   "source": [
    "release_dates = pd.read_csv('../data/release_dates/release_dates.csv')\n",
    "cols = ['id', 'release_date_us']\n",
    "release_dates = release_dates[cols]\n",
    "release_dates = release_dates.rename(columns={'id':'tconst', 'release_date_us': 'releaseDateUS'})"
   ]
  },
  {
   "cell_type": "markdown",
   "metadata": {},
   "source": [
    "### Annotations"
   ]
  },
  {
   "cell_type": "code",
   "execution_count": 14,
   "metadata": {},
   "outputs": [],
   "source": [
    "annot = pd.read_csv('../comments/annotated.csv')\n",
    "annot = annot[['commentId', 'sentiment', 'annotator']]"
   ]
  },
  {
   "cell_type": "code",
   "execution_count": 17,
   "metadata": {},
   "outputs": [],
   "source": [
    "annot_agg = annot.groupby('commentId').agg(\n",
    "    sentimentLabel=('sentiment', stats.mode)\n",
    ").reset_index()\n",
    "\n",
    "annot_agg.sentimentLabel = annot_agg.sentimentLabel.str[0].str[0]\n",
    "\n",
    "sentiment_map = {'Positive': 1, 'Neutral': 0, 'Negative': -1}\n",
    "annot_agg['sentimentScore'] = annot_agg.sentimentLabel.map(sentiment_map)"
   ]
  },
  {
   "cell_type": "markdown",
   "metadata": {},
   "source": [
    "### The big join"
   ]
  },
  {
   "cell_type": "code",
   "execution_count": 35,
   "metadata": {},
   "outputs": [],
   "source": [
    "df = trailers.merge(comments, on='videoId')\n",
    "df = df.merge(match, on='videoId')\n",
    "df = df.merge(imdb, on='tconst')\n",
    "df = df.merge(release_dates, on='tconst', how='left')\n",
    "df = df.merge(annot_agg, on='commentId', how='left')"
   ]
  },
  {
   "cell_type": "code",
   "execution_count": 29,
   "metadata": {},
   "outputs": [],
   "source": [
    "df.to_csv('dataset_no_sentiment.csv', index=False)"
   ]
  },
  {
   "cell_type": "markdown",
   "metadata": {},
   "source": [
    "### Add sentiment"
   ]
  },
  {
   "cell_type": "code",
   "execution_count": 30,
   "metadata": {},
   "outputs": [],
   "source": [
    "df['sentimentPredictedRaw'] = df.textOriginal.astype(str).apply(sentiment_vader)"
   ]
  },
  {
   "cell_type": "code",
   "execution_count": 33,
   "metadata": {},
   "outputs": [],
   "source": [
    "sentiment_map = {'Positive': 1, 'Neutral': 0, 'Negative': -1}\n",
    "df['sentimentPredictedScore'] = df.sentimentPredictedRaw.str[-1].map(sentiment_map)"
   ]
  },
  {
   "cell_type": "code",
   "execution_count": 38,
   "metadata": {
    "scrolled": false
   },
   "outputs": [],
   "source": [
    "df.to_csv('final_data.csv', index=False)"
   ]
  }
 ],
 "metadata": {
  "kernelspec": {
   "display_name": "Python 3",
   "language": "python",
   "name": "python3"
  },
  "language_info": {
   "codemirror_mode": {
    "name": "ipython",
    "version": 3
   },
   "file_extension": ".py",
   "mimetype": "text/x-python",
   "name": "python",
   "nbconvert_exporter": "python",
   "pygments_lexer": "ipython3",
   "version": "3.8.5"
  }
 },
 "nbformat": 4,
 "nbformat_minor": 4
}

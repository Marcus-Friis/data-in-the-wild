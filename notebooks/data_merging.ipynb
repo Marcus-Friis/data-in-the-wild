{
 "cells": [
  {
   "cell_type": "code",
   "execution_count": 2,
   "metadata": {},
   "outputs": [],
   "source": [
    "import sys\n",
    "sys.path.append('..')\n",
    "\n",
    "import os\n",
    "import pandas as pd\n",
    "import numpy as np\n",
    "import matplotlib.pyplot as plt\n",
    "import seaborn as sns\n",
    "\n",
    "# from sentiment import sentiment_vader\n",
    "from imdb_api.imdbscraper import ImdbScraper"
   ]
  },
  {
   "cell_type": "markdown",
   "metadata": {},
   "source": [
    "### Trailers"
   ]
  },
  {
   "cell_type": "code",
   "execution_count": 4,
   "metadata": {},
   "outputs": [],
   "source": [
    "file_list = ['hbo', 'amazon', 'netflix', 'disney']\n",
    "dfs = []\n",
    "for file in file_list:\n",
    "    df = pd.read_csv('../data/' + file + '.csv')\n",
    "    df['network'] = file\n",
    "    dfs.append(df)\n",
    "\n",
    "trailers = pd.concat(dfs)"
   ]
  },
  {
   "cell_type": "markdown",
   "metadata": {},
   "source": [
    "### Comments and sentiment"
   ]
  },
  {
   "cell_type": "code",
   "execution_count": 5,
   "metadata": {},
   "outputs": [],
   "source": [
    "file_list = ['hbo_comments', 'amazon_comments', 'netflix_comments']\n",
    "dfs = []\n",
    "for file in file_list:\n",
    "    df = pd.read_csv('../comments/' + file + '.csv')\n",
    "    dfs.append(df)\n",
    "\n",
    "comments = pd.concat(dfs)"
   ]
  },
  {
   "cell_type": "code",
   "execution_count": 89,
   "metadata": {},
   "outputs": [],
   "source": [
    "comments['sentiment_raw'] = comments.textOriginal.astype(str).apply(sentiment_vader)"
   ]
  },
  {
   "cell_type": "code",
   "execution_count": 91,
   "metadata": {},
   "outputs": [],
   "source": [
    "sentiment_map = {'Positive': 1, 'Neutral': 0, 'Negative': -1}\n",
    "comments['sentiment_score'] = comments.sentiment_raw.str[-1].map(sentiment_map)\n",
    "comments_agg = comments.groupby('videoId').agg(\n",
    "    num_comments=('commentId', 'count'),\n",
    "    sentiment_agg=('sentiment_score', 'mean')\n",
    ").reset_index()"
   ]
  },
  {
   "cell_type": "markdown",
   "metadata": {},
   "source": [
    "### Mapping imdb and youtube"
   ]
  },
  {
   "cell_type": "code",
   "execution_count": 6,
   "metadata": {},
   "outputs": [],
   "source": [
    "file_list = ['hbo', 'amazon', 'netflix']\n",
    "dfs = []\n",
    "for file in file_list:\n",
    "    df = pd.read_csv('../data/match/' + file + '_match.csv', delimiter=';')\n",
    "    dfs.append(df)\n",
    "\n",
    "match = pd.concat(dfs).dropna()"
   ]
  },
  {
   "cell_type": "markdown",
   "metadata": {},
   "source": [
    "### IMDb"
   ]
  },
  {
   "cell_type": "code",
   "execution_count": 7,
   "metadata": {
    "scrolled": true
   },
   "outputs": [
    {
     "name": "stderr",
     "output_type": "stream",
     "text": [
      "C:\\Users\\marcu\\AppData\\Local\\Temp/ipykernel_8560/3867179827.py:1: DtypeWarning: Columns (4) have mixed types. Specify dtype option on import or set low_memory=False.\n",
      "  imdb = pd.read_csv('../imdb/title.basics.tsv', delimiter='\\t')\n"
     ]
    }
   ],
   "source": [
    "imdb = pd.read_csv('../imdb/title.basics.tsv', delimiter='\\t')\n",
    "ratings = pd.read_csv('../imdb/title.ratings.tsv', delimiter='\\t')\n",
    "imdb = imdb.merge(ratings, on='tconst')"
   ]
  },
  {
   "cell_type": "markdown",
   "metadata": {},
   "source": [
    "### IMDb release dates"
   ]
  },
  {
   "cell_type": "code",
   "execution_count": 45,
   "metadata": {},
   "outputs": [],
   "source": [
    "# scraper = ImdbScraper()\n",
    "# scraper.scrape_dates(match.tconst, verbose=True, timeout=1)"
   ]
  },
  {
   "cell_type": "code",
   "execution_count": 9,
   "metadata": {},
   "outputs": [],
   "source": [
    "# release_dates = pd.DataFrame(scraper.data)\n",
    "# release_dates['dt'] = pd.to_datetime(release_dates.release_date_us)"
   ]
  },
  {
   "cell_type": "code",
   "execution_count": 11,
   "metadata": {},
   "outputs": [],
   "source": [
    "release_dates = pd.read_csv('../data/release_dates/release_dates.csv')"
   ]
  },
  {
   "cell_type": "markdown",
   "metadata": {},
   "source": [
    "### Annotations"
   ]
  },
  {
   "cell_type": "code",
   "execution_count": 16,
   "metadata": {},
   "outputs": [],
   "source": [
    "annot = pd.read_csv('../comments/annotated.csv')"
   ]
  },
  {
   "cell_type": "markdown",
   "metadata": {},
   "source": [
    "### The big join"
   ]
  },
  {
   "cell_type": "code",
   "execution_count": 18,
   "metadata": {},
   "outputs": [
    {
     "name": "stderr",
     "output_type": "stream",
     "text": [
      "C:\\Users\\marcu\\AppData\\Local\\Temp/ipykernel_8560/4155978374.py:5: FutureWarning: Passing 'suffixes' which cause duplicate columns {'Unnamed: 0_x'} in the result is deprecated and will raise a MergeError in a future version.\n",
      "  df = df.merge(annot, on='commentId', how='left')\n"
     ]
    }
   ],
   "source": [
    "df = trailers.merge(comments, on='videoId')\n",
    "df = df.merge(match, on='videoId')\n",
    "df = df.merge(imdb, on='tconst')\n",
    "df = df.merge(release_dates, left_on='tconst', right_on='id')\n",
    "df = df.merge(annot, on='commentId', how='left')"
   ]
  },
  {
   "cell_type": "code",
   "execution_count": 23,
   "metadata": {
    "scrolled": true
   },
   "outputs": [
    {
     "data": {
      "text/plain": [
       "['Unnamed: 0_x',\n",
       " 'channelId',\n",
       " 'videoId_x',\n",
       " 'videoTitle',\n",
       " 'publishTime',\n",
       " 'publishedAt_x',\n",
       " 'title_lowered',\n",
       " 'is_trailer',\n",
       " 'network',\n",
       " 'Unnamed: 0_y',\n",
       " 'commentId',\n",
       " 'textOriginal_x',\n",
       " 'likeCount_x',\n",
       " 'publishedAt_y',\n",
       " 'tconst',\n",
       " 'titleType',\n",
       " 'primaryTitle',\n",
       " 'originalTitle',\n",
       " 'isAdult',\n",
       " 'startYear',\n",
       " 'endYear',\n",
       " 'runtimeMinutes',\n",
       " 'genres',\n",
       " 'averageRating',\n",
       " 'numVotes',\n",
       " 'Unnamed: 0_x',\n",
       " 'id_x',\n",
       " 'release_date_us',\n",
       " 'Unnamed: 0_y',\n",
       " 'videoId_y',\n",
       " 'textOriginal_y',\n",
       " 'likeCount_y',\n",
       " 'publishedAt',\n",
       " 'id_y',\n",
       " 'sentiment',\n",
       " 'annotator',\n",
       " 'annotation_id',\n",
       " 'created_at',\n",
       " 'updated_at',\n",
       " 'lead_time']"
      ]
     },
     "execution_count": 23,
     "metadata": {},
     "output_type": "execute_result"
    }
   ],
   "source": [
    "list(df)"
   ]
  },
  {
   "cell_type": "code",
   "execution_count": 44,
   "metadata": {
    "scrolled": true
   },
   "outputs": [],
   "source": [
    "df = df[df.videoId_x == 'DotnJ7tTA34']\n",
    "df['dt'] = pd.to_datetime(df.publishedAt_y)"
   ]
  },
  {
   "cell_type": "code",
   "execution_count": 55,
   "metadata": {},
   "outputs": [],
   "source": [
    "df['date'] = df.dt.dt.date"
   ]
  },
  {
   "cell_type": "code",
   "execution_count": 63,
   "metadata": {},
   "outputs": [],
   "source": [
    "agg = df.groupby('date').agg(asdf=('commentId', 'count')).reset_index()"
   ]
  },
  {
   "cell_type": "code",
   "execution_count": 67,
   "metadata": {},
   "outputs": [],
   "source": [
    "agg = agg.sort_values('date')"
   ]
  },
  {
   "cell_type": "code",
   "execution_count": 89,
   "metadata": {},
   "outputs": [],
   "source": [
    "release = pd.to_datetime(df.release_date_us.unique()[0])"
   ]
  },
  {
   "cell_type": "code",
   "execution_count": 105,
   "metadata": {},
   "outputs": [
    {
     "data": {
      "text/plain": [
       "<matplotlib.collections.LineCollection at 0x135ae6da250>"
      ]
     },
     "execution_count": 105,
     "metadata": {},
     "output_type": "execute_result"
    },
    {
     "data": {
      "image/png": "[encoded data removed]",
      "text/plain": [
       "<Figure size 432x288 with 1 Axes>"
      ]
     },
     "metadata": {},
     "output_type": "display_data"
    }
   ],
   "source": [
    "plt.style.use('ggplot')\n",
    "fig, ax = plt.subplots()\n",
    "ax.plot(agg.date, agg.asdf)\n",
    "ax.set_yscale('log')\n",
    "ax.vlines(release, 0, agg.asdf.max(), color='#5184FA', linestyle='--')"
   ]
  }
 ],
 "metadata": {
  "kernelspec": {
   "display_name": "Python 3 (ipykernel)",
   "language": "python",
   "name": "python3"
  },
  "language_info": {
   "codemirror_mode": {
    "name": "ipython",
    "version": 3
   },
   "file_extension": ".py",
   "mimetype": "text/x-python",
   "name": "python",
   "nbconvert_exporter": "python",
   "pygments_lexer": "ipython3",
   "version": "3.9.7"
  }
 },
 "nbformat": 4,
 "nbformat_minor": 4
}

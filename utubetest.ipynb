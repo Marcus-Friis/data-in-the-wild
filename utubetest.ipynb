{
 "cells": [
  {
   "cell_type": "code",
   "execution_count": null,
   "metadata": {},
   "outputs": [],
   "source": [
    "import googleapiclient.discovery\n",
    "import configparser\n",
    "from pprint import pprint\n",
    "import pandas as pd"
   ]
  },
  {
   "cell_type": "markdown",
   "metadata": {},
   "source": [
    "## setup api"
   ]
  },
  {
   "cell_type": "code",
   "execution_count": null,
   "metadata": {},
   "outputs": [],
   "source": [
    "# get api key from file\n",
    "config = configparser.ConfigParser()\n",
    "config.read('config.ini')\n",
    "DEVELOPER_KEY = config['DEFAULT']['key']"
   ]
  },
  {
   "cell_type": "code",
   "execution_count": null,
   "metadata": {},
   "outputs": [],
   "source": [
    "# API information\n",
    "api_service_name = \"youtube\"\n",
    "api_version = \"v3\"\n",
    "\n",
    "# API client\n",
    "youtube = googleapiclient.discovery.build(\n",
    "    api_service_name, api_version, developerKey = DEVELOPER_KEY)"
   ]
  },
  {
   "cell_type": "markdown",
   "metadata": {},
   "source": [
    "## get videos"
   ]
  },
  {
   "cell_type": "code",
   "execution_count": null,
   "metadata": {
    "scrolled": true
   },
   "outputs": [],
   "source": [
    "request = youtube.search().list(\n",
    "    part='id,snippet',\n",
    "    type='video',\n",
    "    # channelId='UCWOA1ZGywLbqmigxE4Qlvuw',  # search for netflix\n",
    "    channelId='UCx-KWLTKlB83hDI6UKECtJQ',  # search for HBO\n",
    "    q='trailer'\n",
    ")\n",
    "\n",
    "# Query execution\n",
    "response = request.execute()"
   ]
  },
  {
   "cell_type": "code",
   "execution_count": null,
   "metadata": {},
   "outputs": [],
   "source": [
    "data = {\n",
    "    'channelId': [],\n",
    "    # 'channelName': [],\n",
    "    'videoId': [],\n",
    "    'videoTitle': [],\n",
    "    'publishTime': [],\n",
    "    'publishedAt': []\n",
    "}\n",
    "df = pd.DataFrame(data)\n",
    "\n",
    "for _ in range(1000000):\n",
    "    page_row = {\n",
    "        'channelId': [],\n",
    "        # 'channelName': [],\n",
    "        'videoId': [],\n",
    "        'videoTitle': [],\n",
    "        'publishTime': [],\n",
    "        'publishedAt': []\n",
    "    }\n",
    "\n",
    "    for item in response['items']:\n",
    "        page_row['channelId'].append(item['snippet']['channelId'])\n",
    "        page_row['videoId'].append(item['id']['videoId'])\n",
    "        page_row['videoTitle'].append(item['snippet']['title'])\n",
    "        page_row['publishTime'].append(item['snippet']['publishTime'])\n",
    "        page_row['publishedAt'].append(item['snippet']['publishedAt'])\n",
    "    df_page = pd.DataFrame(page_row)\n",
    "    df = pd.concat((df, df_page), ignore_index=True)\n",
    "    \n",
    "    request = youtube.search().list(\n",
    "        part='id,snippet',\n",
    "        type='video',\n",
    "        # channelId='UCWOA1ZGywLbqmigxE4Qlvuw',  # search for netflix\n",
    "        channelId='UCx-KWLTKlB83hDI6UKECtJQ',  # search for HBO\n",
    "        q='trailer',\n",
    "        pageToken=response['nextPageToken']\n",
    "    )\n",
    "    # Query execution\n",
    "    response = request.execute()"
   ]
  },
  {
   "cell_type": "code",
   "execution_count": null,
   "metadata": {
    "scrolled": true
   },
   "outputs": [],
   "source": [
    "# df.to_csv('hello.csv')\n",
    "df"
   ]
  },
  {
   "cell_type": "code",
   "execution_count": null,
   "metadata": {},
   "outputs": [],
   "source": []
  },
  {
   "cell_type": "code",
   "execution_count": null,
   "metadata": {},
   "outputs": [],
   "source": []
  },
  {
   "cell_type": "markdown",
   "metadata": {},
   "source": [
    "## comments"
   ]
  },
  {
   "cell_type": "code",
   "execution_count": null,
   "metadata": {},
   "outputs": [],
   "source": [
    "request = youtube.commentThreads().list(\n",
    "        part=\"id,snippet\",\n",
    "        videoId=\"obIWs9p0boE\"\n",
    "    )\n",
    "\n",
    "response = request.execute()"
   ]
  },
  {
   "cell_type": "code",
   "execution_count": null,
   "metadata": {},
   "outputs": [],
   "source": [
    "response"
   ]
  },
  {
   "cell_type": "code",
   "execution_count": null,
   "metadata": {},
   "outputs": [],
   "source": [
    "for item in response['items']:\n",
    "    print(item['snippet']['topLevelComment']['snippet']['textOriginal'], item['snippet']['topLevelComment']['snippet']['publishedAt'], '\\n')"
   ]
  }
 ],
 "metadata": {
  "kernelspec": {
   "display_name": "Python 3 (ipykernel)",
   "language": "python",
   "name": "python3"
  },
  "language_info": {
   "codemirror_mode": {
    "name": "ipython",
    "version": 3
   },
   "file_extension": ".py",
   "mimetype": "text/x-python",
   "name": "python",
   "nbconvert_exporter": "python",
   "pygments_lexer": "ipython3",
   "version": "3.9.7"
  }
 },
 "nbformat": 4,
 "nbformat_minor": 4
}
